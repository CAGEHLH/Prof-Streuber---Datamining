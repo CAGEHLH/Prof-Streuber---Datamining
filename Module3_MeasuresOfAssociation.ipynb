{
  "nbformat": 4,
  "nbformat_minor": 0,
  "metadata": {
    "kernelspec": {
      "display_name": "Python 3",
      "language": "python",
      "name": "python3"
    },
    "language_info": {
      "codemirror_mode": {
        "name": "ipython",
        "version": 3
      },
      "file_extension": ".py",
      "mimetype": "text/x-python",
      "name": "python",
      "nbconvert_exporter": "python",
      "pygments_lexer": "ipython3",
      "version": "3.7.0"
    },
    "colab": {
      "provenance": [],
      "collapsed_sections": [
        "bZu4GZJ5n0ZO",
        "mybIoBG2I-5T"
      ],
      "toc_visible": true,
      "include_colab_link": true
    }
  },
  "cells": [
    {
      "cell_type": "markdown",
      "metadata": {
        "id": "view-in-github",
        "colab_type": "text"
      },
      "source": [
        "<a href=\"https://colab.research.google.com/github/shstreuber/Data-Mining/blob/master/Module3_MeasuresOfAssociation.ipynb\" target=\"_parent\"><img src=\"https://colab.research.google.com/assets/colab-badge.svg\" alt=\"Open In Colab\"/></a>"
      ]
    },
    {
      "cell_type": "markdown",
      "metadata": {
        "id": "bZu4GZJ5n0ZO"
      },
      "source": [
        "# **Module 3: Measures of Association**\n",
        "\n",
        "Evaluating the relationship between variables is at the heart of data mining. We have a number of techniques at our disposal:\n",
        "1. Distance calculations like Euclidean, Manhattan, Cosine Similarity (and some others)\n",
        "2. Measures of Independence like Chi Square, Covariance, and Correlation\n",
        "\n",
        "<img src=\"https://miro.medium.com/v2/resize:fit:4800/format:webp/1*WN7EW2uMnoPrOBEasQWyaQ.png\">\n",
        "\n",
        "3. Predictive Measures like Regression and ANOVA, which we will encounter in the next module\n",
        "\n",
        "In this module, you will learn how to:\n",
        "* Explain distance between data in terms of Euclidian, Manhattan, Chi Square, Correlation, and Cosine Similarity\n",
        "* Set up Cosine Similarity calculations\n",
        "* Set up Chi Square calculations\n",
        "* Set up Correlation calculations\n",
        "\n",
        "## **Not Sure About the Concepts?**\n",
        "* **READ** [this explanation](https://www.jmp.com/en_us/statistics-knowledge-portal/chi-square-test.html) of Chi Square\n",
        "* **READ** [this explanation](https://medium.com/@ashisharora2204/correlation-covariance-measure-of-association-288b1a60b68a) of Covariance and Correlation."
      ]
    },
    {
      "cell_type": "markdown",
      "metadata": {
        "id": "SX1NUuGsnXJJ"
      },
      "source": [
        "#**0. Preparation and Setup**\n",
        "We are working with our adult dataset again, so we're loading our libraries and our dataset just like last time. Since we are working with more involved math this time around, we will need more functionality:\n",
        "* **Scikit-Learn**: We will use the cosine_similarity function from the [scikit-learn metrics module](https://scikit-learn.org/stable/modules/classes.html#module-sklearn.metrics). If you click that link, you'll see that this is the big math module--knowing which functions to use will allow you to skip programming much of the math by hand. Very practical! Cosine similarity is located in the [pairwise submodule](https://scikit-learn.org/stable/modules/metrics.html#metrics).\n",
        "* **Scipy**: This is numpy's [\"big sister\" for advanced math](https://docs.scipy.org/doc/scipy-1.6.3/reference/). We will use it for Chi Square calculations.\n",
        "* **Math**: The [math package](https://docs.python.org/3/library/math.html) allows us to do advanced math, calculate logarithmic functions etc."
      ]
    },
    {
      "cell_type": "code",
      "metadata": {
        "id": "rx3vL3ekndfA"
      },
      "source": [
        "import numpy as np\n",
        "import pandas as pd\n",
        "import matplotlib.pyplot as plt\n",
        "import math\n",
        "from math import acos, degrees\n",
        "from scipy import spatial\n",
        "from scipy.stats import chisquare\n",
        "from scipy.stats import chi2_contingency\n",
        "from sklearn.metrics.pairwise import cosine_similarity\n",
        "\n",
        "from IPython.display import HTML # This is just for me so I can embed videos\n",
        "\n",
        "#Reading in the data as adult dataframe\n",
        "adult = pd.read_csv(\"https://raw.githubusercontent.com/shstreuber/Data-Mining/master/data/adult.data.simplified24.csv\")\n",
        "\n",
        "#Verifying that we can see the data\n",
        "adult.head()"
      ],
      "execution_count": null,
      "outputs": []
    },
    {
      "cell_type": "markdown",
      "source": [
        "#**1. Distance**\n",
        "\n",
        "Let's say you want to buy a car. You probably know what you're looking for already: You know the color, the make, and the model year you want, and the budget you have available. What you don't know just yet is, of course, the exact price--that's why you're shopping around.\n",
        "\n",
        "Let's say you are looking for a red 2020 Mercedes for less than $5,000.\n",
        "\n",
        "<center><img src = 'https://www.carpro.com/hubfs/car-review-blog/review_337244_1.jpg' width = 500></center>\n",
        "\n",
        "Here are your shopping notes:\n",
        "\n",
        "* **Dealer 1:** Red 2012 Audi $4,500\n",
        "\n",
        "* **Dealer 2:** Silver 2008 Mercedes $8,000\n",
        "\n",
        "* **Dealer 3:** Red 2020 Chevrolet $4,999\n",
        "\n",
        "Which car are you going to buy?\n",
        "\n",
        "If you were going to use Distance (i.e. **difference**) and a simple boolean algorithm to match these criteria, here is what this would look like:\n",
        "\n",
        "* **Color**: Dealers 1 and 3 have red cars, so they get a 0 for red; Dealer 2 gets a 1 because their car is silver.\n",
        "\n",
        "* **Year**: Dealers 1 and 2 get a 1 because their cars are older; only Dealer 3 gets a 0 because their car is from 2020.\n",
        "\n",
        "* **Make**: Dealers 1 and 3 get a 1 because you were not looking for an Audi or a Chevrolet; you were looking for a Mercedes, which you found at Dealer 2 (who gets a 0).\n",
        "\n",
        "* **Price**: Dealer 2 is too expensive (1); only Dealers 1 and 3 match your criteria (both get a 0).\n",
        "\n",
        "Now we total up the points: Dealer 1 gets 2 points (Year and Make are different); Dealer 2 gets 3 points (Color, Year, and Price are different); Dealer 3 gets 1 point (only the Make is different)--so, the red 2020 Chevy for $4,999 from Dealer 3 is **CLOSEST**to what you were looking for. For all the others, the Distance from your original search is bigger.\n",
        "\n",
        "This example is obviously a gross simplification, but it illustrates one thing: **The closer two data points, or even two data series, are--that is, the more they are alike--the smaller the distance between the two.**\n",
        "<hr>\n",
        "\n",
        "###**TRIGONOMETRY MOMENT!**\n",
        "\n",
        "There are three major mathematical ways to measure distance in a two-dimensional plane, and they are all based on (yay?) **RIGHT TRIANGLES**: Euclidean, Manhattan, and Cosine Similarity:\n",
        "\n",
        "<img src = 'https://i0.wp.com/dataaspirant.com/wp-content/uploads/2015/04/cover_post_final.png'>"
      ],
      "metadata": {
        "id": "1n1n8vmS2X5y"
      }
    },
    {
      "cell_type": "markdown",
      "metadata": {
        "id": "lFZwDq8mtu3B"
      },
      "source": [
        "##**1.1 Euclidean Distance**#\n",
        "The Euclidean distance between two points measures the length of a segment connecting the two points. It is the most obvious way of representing distance between two points--the **HYPOTENUSE** (line d) in the triangle below:\n",
        "\n",
        "<img src=\"https://raw.githubusercontent.com/shstreuber/Data-Mining/master/images/Euclidean_distance.png\" width=200 height=200>\n",
        "\n",
        "As you can see, in this graphic, the Pythagorean theorem leads us to calculate side d like this:\n",
        "\n",
        "            ** √((x2−x1)^2+(y2−y1)^2)`**\n",
        "\n",
        "##And how does this work in Python?##\n",
        "It's not that hard to compute the Euclidean distance with straight-up Python math, as long as you take your time and go stepwise. Pandas and numpy help us with that.\n",
        "\n",
        "It's ok to skip ahead to the section with the adult dataset, if you are out of time."
      ]
    },
    {
      "cell_type": "markdown",
      "metadata": {
        "id": "L-NSGEaPfJE-"
      },
      "source": [
        "###**1.1.1 Euclidean distance using straight-forward math**##\n",
        "We will set up a quick dummy dataset and do the math as the second step."
      ]
    },
    {
      "cell_type": "code",
      "metadata": {
        "id": "tslHqjIKsom4"
      },
      "source": [
        "# Here, I am creating a quick dummy dataset. You won't need to do this with the adult dataset\n",
        "# or with any data series that is already formatted as a series.\n",
        "\n",
        "# We build two series called x and y\n",
        "x = pd.Series([1, 2, 3, 4, 5])\n",
        "y = pd.Series([6, 7, 8, 9, 10])\n",
        "\n",
        "# Let's check what x and y contain:\n",
        "print(\"Series 1:\")\n",
        "print(x)\n",
        "\n",
        "print(\"Series 2:\")\n",
        "print(y)"
      ],
      "execution_count": null,
      "outputs": []
    },
    {
      "cell_type": "markdown",
      "metadata": {
        "id": "Z7JhgHNJ2Kl9"
      },
      "source": [
        "Alright. The dataset is in place and correctly formatted. Now we start setting up the Euclidean distance formula."
      ]
    },
    {
      "cell_type": "code",
      "metadata": {
        "id": "42v5WYIZdwoL"
      },
      "source": [
        "# First, we square each datapoint as a in series x and save the array into p1\n",
        "# Then, we square each datapoint as b in series y and save the array into p2\n",
        "p1 = np.sum([(a * a) for a in x])\n",
        "p2 = np.sum([(b * b) for b in y])\n",
        "\n",
        "# Now we can build the formula with the squared values\n",
        "# The numpy zip() function makes it easy to iterate through x and y\n",
        "dist = np.sqrt(np.sum([(a-b)*(a-b) for a, b in zip(x, y)]))\n",
        "\n",
        "# So, what's the distance?:\n",
        "print(\"Euclidean distance between our two series is:\", dist)"
      ],
      "execution_count": null,
      "outputs": []
    },
    {
      "cell_type": "markdown",
      "metadata": {
        "id": "9FqqnwG62Pv3"
      },
      "source": [
        "The entire operation took 3 lines of code. That was ... fun? Maybe? Is there an easier way?"
      ]
    },
    {
      "cell_type": "markdown",
      "metadata": {
        "id": "XCpZmcmjgxrs"
      },
      "source": [
        "###**1.1.2 Euclidean distance using dot product**##\n",
        "Now let's do this math differently, not with pandas, but with numpy. For this, we will need our data to look like an **array** and not like a series. **Arrays are one of the most common ways to work with data in Python.**"
      ]
    },
    {
      "cell_type": "code",
      "metadata": {
        "id": "T6mYxpvyg2tR"
      },
      "source": [
        "# First, we build our data again, but this time as arrays, This will allow us to do simple vector math!\n",
        "\n",
        "point1 = np.array((1, 2, 3, 4, 5))\n",
        "point2 = np.array((6, 7, 8, 9, 10))\n",
        "\n",
        "# Let's check what x and y contain:\n",
        "print(\"Array 1:\")\n",
        "print(point1)\n",
        "\n",
        "print(\"Array 2:\")\n",
        "print(point2)"
      ],
      "execution_count": null,
      "outputs": []
    },
    {
      "cell_type": "code",
      "metadata": {
        "id": "K6H-W4Kik-5i"
      },
      "source": [
        "# Now we subtract point 2 from point 1.\n",
        "temp = point1 - point2\n",
        "\n",
        "# Then we use the dot product to find the sum of squares\n",
        "sum_sq = np.dot(temp.T, temp)\n",
        "\n",
        "# All we need now is to take the square root of the sum of squares\n",
        "print(\"Euclidean distance between our two arrays is:\",np.sqrt(sum_sq))"
      ],
      "execution_count": null,
      "outputs": []
    },
    {
      "cell_type": "markdown",
      "metadata": {
        "id": "Y7mBBLJef14r"
      },
      "source": [
        "###**1.1.3 Euclidean Distance and the adult dataset**##\n",
        "Now let's try this on the adult dataset.\n",
        "\n",
        "Our question to ask: Does incomeUSD depend more on a person's age or on their educationyears? In other words, we want to find out which of these two attributes is closer to incomeUSD.\n",
        "\n",
        "**First, age**:"
      ]
    },
    {
      "cell_type": "code",
      "metadata": {
        "id": "szIOr4Gcx8Xg"
      },
      "source": [
        "point1 = np.array((adult.age))\n",
        "point2 = np.array((adult.incomeUSD))\n",
        "\n",
        " # Let's check what x and y contain:\n",
        "print(\"Array 1:\")\n",
        "print(point1)\n",
        "\n",
        "print(\"Array 2:\")\n",
        "print(point2)"
      ],
      "execution_count": null,
      "outputs": []
    },
    {
      "cell_type": "code",
      "metadata": {
        "id": "qQY8YukGzauF"
      },
      "source": [
        "dist = np.linalg.norm(point1 - point2)\n",
        "\n",
        "# printing Euclidean distance\n",
        "print(\"Euclidean distance between age and incomeUSD is:\", dist)"
      ],
      "execution_count": null,
      "outputs": []
    },
    {
      "cell_type": "markdown",
      "metadata": {
        "id": "G3DvcAXq0IZD"
      },
      "source": [
        "###**Your Turn**\n",
        "In the space below, do the same transformation (that's a data-sciency way to say \"ensure your data is in (here) array format>\") and calculation, but for the educationyears attribute in comparison to incomeUSD.\n",
        "\n",
        "First, transform the data into array format:"
      ]
    },
    {
      "cell_type": "code",
      "source": [],
      "metadata": {
        "id": "1MBAxAee9AkD"
      },
      "execution_count": 8,
      "outputs": []
    },
    {
      "cell_type": "markdown",
      "metadata": {
        "id": "giZzBb4h5l1B"
      },
      "source": [
        "Second, use linalg or dot product (just for fun) to calculate the Euclidean distance:"
      ]
    },
    {
      "cell_type": "code",
      "metadata": {
        "id": "fTibPO3M5kHl"
      },
      "source": [],
      "execution_count": 8,
      "outputs": []
    },
    {
      "cell_type": "markdown",
      "metadata": {
        "id": "RmEC1uZM54e8"
      },
      "source": [
        "Third, use your good judgment and compare the Euclidean distance I have calculated comparing age and incomeUSD with the Euclidean distance you have calculated comparing educationyears and incomeUSD. **A smaller distance number shows you that the two attributes are more closely related. A larger distance number shows you that they are not as closely related.**\n",
        "\n",
        "**Now you can answer our question**: Which distance is smaller? In other words, what attribute determines a person's incomeUSD more--age or educationyears? Type your answer in the text box below:"
      ]
    },
    {
      "cell_type": "markdown",
      "source": [],
      "metadata": {
        "id": "9zwY-zLT9N1T"
      }
    },
    {
      "cell_type": "markdown",
      "metadata": {
        "id": "U25aWrU7scV0"
      },
      "source": [
        "##**1.2. Manhattan Distance**#\n",
        "The Manhattan distance, also often called rectilinear or city block distance, between two points is measured along axes at right angles. In a plane with p1 at (x1, y1) and p2 at (x2, y2), it is\n",
        "\n",
        "            **|x1 - x2| + |y1 - y2|**\n",
        "\n",
        "In the graphic below, the measurement goes at an angle through the lower right-hand point across from the hypotenuse:\n",
        "\n",
        "<img src=\"https://raw.githubusercontent.com/shstreuber/Data-Mining/master/images/Euclidean_distance.png\" width=200 height=200>"
      ]
    },
    {
      "cell_type": "markdown",
      "metadata": {
        "id": "c13dyZYT7vHH"
      },
      "source": [
        "###**1.2.1 Math? Not again, please!**\n",
        "Ok, ok, I get it: If you wanted to calculate things with complicated formulas, you would have taken a Math class and not a class in which we should be using easy programming methods. Fine, then. BUT we'll need a different Python library to accomplish \"no math\":\n",
        "\n",
        "**The [SciPy library](https://www.scipy.org/) does all the math for us.**"
      ]
    },
    {
      "cell_type": "code",
      "metadata": {
        "id": "rK8XzQQ381WG"
      },
      "source": [
        "import scipy.spatial.distance as dist"
      ],
      "execution_count": 9,
      "outputs": []
    },
    {
      "cell_type": "markdown",
      "metadata": {
        "id": "hXAfBplG8620"
      },
      "source": [
        "Now, we set up our data. You already know this from section 1.1 above."
      ]
    },
    {
      "cell_type": "code",
      "metadata": {
        "id": "nS9QC6fD9QC3"
      },
      "source": [
        "point1 = np.array((1, 2, 3, 4, 5))\n",
        "point2 = np.array((6, 7, 8, 9, 10))\n",
        "\n",
        "print ('Here is our sample data')\n",
        "print ('------------------------')\n",
        "print (\"Array 1:\", point1)\n",
        "print (\"Array 2:\", point2)"
      ],
      "execution_count": null,
      "outputs": []
    },
    {
      "cell_type": "markdown",
      "metadata": {
        "id": "3S5nM8Fc9bRE"
      },
      "source": [
        "Time to program our algorithm!"
      ]
    },
    {
      "cell_type": "code",
      "metadata": {
        "id": "fJl3PwXF9BGZ"
      },
      "source": [
        "print (\"Manhattan Distance:\", dist.cityblock(point1,point2))"
      ],
      "execution_count": null,
      "outputs": []
    },
    {
      "cell_type": "markdown",
      "metadata": {
        "id": "4lSWH4dKA1jx"
      },
      "source": [
        "**Wait, WHAT?** That was quick! Can we do that with Euclidean Distance, too?"
      ]
    },
    {
      "cell_type": "code",
      "metadata": {
        "id": "NDXm75noA7uj"
      },
      "source": [
        "print (\"Euclidean Distance:\", dist.euclidean(point1,point2))"
      ],
      "execution_count": null,
      "outputs": []
    },
    {
      "cell_type": "markdown",
      "metadata": {
        "id": "cpeOPus1BHKr"
      },
      "source": [
        "One line! No math! So short! So elegant! And, of course, different from our Euclidean measurement because we're not measuring the direct connection, but we're going around the \"cityblocks\" to get from our first to our second point.\n",
        "\n",
        "***We have reached the goal!***\n"
      ]
    },
    {
      "cell_type": "markdown",
      "metadata": {
        "id": "g3kfVRnzBVPf"
      },
      "source": [
        "###**1.2.2 Manhattan Distance and the adult dataset**\n",
        "Let's take the show on the road again, with our adult dataset. To show you the entire process, we'll walk through the array conversion step first and then display the Manhattan Distance.\n",
        "\n",
        "I'm again working with the age and incomeUSD attributes. Your job is to compute the educationyears and incomeUSD attributes."
      ]
    },
    {
      "cell_type": "code",
      "metadata": {
        "id": "QR-cwwKJBuw_"
      },
      "source": [
        "point1 = np.array((adult.age))\n",
        "point2 = np.array((adult.incomeUSD))\n",
        "\n",
        "print (\"Manhattan Distance between age and incomeUSD:\", dist.cityblock(point1,point2))"
      ],
      "execution_count": null,
      "outputs": []
    },
    {
      "cell_type": "markdown",
      "metadata": {
        "id": "Fhp6G3lXCt9g"
      },
      "source": [
        "###**Your Turn**\n",
        "Now, do the same thing I did above with age and incomeUSD, but with educationyears and incomeUSD. You'll need to set up your arrays and then use the print function to display the Manhattan distance."
      ]
    },
    {
      "cell_type": "code",
      "metadata": {
        "id": "0F7orqZzDpYQ"
      },
      "source": [],
      "execution_count": 13,
      "outputs": []
    },
    {
      "cell_type": "markdown",
      "metadata": {
        "id": "Q_ruq0TpD5ZN"
      },
      "source": [
        "Compare your results about educationyears and incomeUSD to my results about age and incomeUSD. Which attribute is close to incomeUSD--age or educationyears? Type your answer below:"
      ]
    },
    {
      "cell_type": "markdown",
      "metadata": {
        "id": "YfYgTvhAEGyF"
      },
      "source": []
    },
    {
      "cell_type": "markdown",
      "metadata": {
        "id": "aljcjl3kn0ZX"
      },
      "source": [
        "## **1.3. Cosine Similarity**\n",
        "\n",
        "Cosine Similarity is the last distance-based measure that we haven't discussed yet.\n",
        "\n",
        "While Euclidean and Manhattan Distance are just plain calculations, Cosine Similarity works with angles. This is where things get a little more involved.\n",
        "\n",
        "Mathematically speaking, **Cosine Similarity** is the normalized dot product between two vectors, i.e. two attributes in our dataframe. The steps are\n",
        "* Calculate the dot product between two attributes (or, in math language: Calculate the product of the Euclidean magnitudes of these two vectors). If you're not sure what dot product is, [here is a great explanation](https://www.mathsisfun.com/algebra/vectors-dot-product.html).\n",
        "* Calculate the cosine of the angle between these two vectors.\n",
        "Quick helper: The cosine of 0° is 1 (meaning the two vectors are identical), and it is less than 1 for any other angle. It is 0 for a 90° angle.\n",
        "\n",
        "<img src = 'https://i0.wp.com/dataaspirant.com/wp-content/uploads/2015/04/cosine.png'>\n",
        "\n",
        "Since Cosine Similarity can be computed relatively quickly, it is very popular.\n",
        "\n",
        "More information is here: https://scikit-learn.org/stable/modules/generated/sklearn.metrics.pairwise.cosine_similarity.html"
      ]
    },
    {
      "cell_type": "markdown",
      "metadata": {
        "id": "GzMX3PSXszAp"
      },
      "source": []
    },
    {
      "cell_type": "markdown",
      "metadata": {
        "id": "QHGCvSJMxgMp"
      },
      "source": []
    },
    {
      "cell_type": "markdown",
      "metadata": {
        "id": "9B4xiSPMwTXf"
      },
      "source": [
        "### **1.3.1 A Small Example**\n",
        "Here is how this works on a very small example, with two made-up vectors.\n",
        "Note that all the vectors **MUST be numeric**! (One big reason why we  covered preprocessing techniques in the previous module)."
      ]
    },
    {
      "cell_type": "code",
      "metadata": {
        "id": "SZ-AUVlZyVEC"
      },
      "source": [
        "# Here are the two vectors again. Think of them like numeric attributes from your dataframe:\n",
        "a = np.array([1,2,3])\n",
        "b = np.array([1,1,4])\n",
        "\n",
        "print(a,b)"
      ],
      "execution_count": null,
      "outputs": []
    },
    {
      "cell_type": "markdown",
      "metadata": {
        "id": "RkHKpDQ-5SXG"
      },
      "source": [
        "First, we do this manually with the dot product you already know:"
      ]
    },
    {
      "cell_type": "code",
      "metadata": {
        "id": "l_-EbCt_n0ZY"
      },
      "source": [
        "# We can MANUALLY compute cosine similarity (this is where we are using the math library we called above)\n",
        "dot = np.dot(a, b)  # computing the dot product with the dot function\n",
        "norma = np.linalg.norm(a)  # normalizing vector a to bring it on the same scale as vector b\n",
        "normb = np.linalg.norm(b)  # normalizing vector b o bring it on the same scale as vector a\n",
        "cos1 = dot / (norma * normb)  # computing the cosine by dividing the dot product by the normalized vectors as shown in the cartoon above\n",
        "\n",
        "print(cos1)"
      ],
      "execution_count": null,
      "outputs": []
    },
    {
      "cell_type": "code",
      "metadata": {
        "id": "ynXFZ3N72j81"
      },
      "source": [
        "# Now we need to find the angle from the cosine. This requires two steps:\n",
        "# 1. convert the angle to radians\n",
        "# 2. calculate the degrees\n",
        "\n",
        "angle_in_radians1 = math.acos(cos1)\n",
        "degrees1 = math.degrees(angle_in_radians1)\n",
        "\n",
        "print(cos1, angle_in_radians1, degrees1)"
      ],
      "execution_count": null,
      "outputs": []
    },
    {
      "cell_type": "markdown",
      "metadata": {
        "id": "YlBnZAzo5bGa"
      },
      "source": [
        "So, that was straight-up programmed math.\n",
        "\n",
        "But this is **DATA MINING**, and we have fancy packages like sklearn.metrics to speed things up. So, we'll do this over again:"
      ]
    },
    {
      "cell_type": "code",
      "metadata": {
        "id": "juT_ZNgP6ons"
      },
      "source": [
        "# Using the COSINE_SIMILARITY FUNCTION from sklearn.metrics\n",
        "cos2 = cosine_similarity(a,b)"
      ],
      "execution_count": null,
      "outputs": []
    },
    {
      "cell_type": "markdown",
      "metadata": {
        "id": "zD5Xixr76ybP"
      },
      "source": [
        "**Wait, what?** Let's **read the error message** here: It tells us that something is wrong with the way our input data is formatted. In fact, the cosine_similarity function expects two-dimensional arrays. Our input data has just one each. That's why we need to reformat (=reshape) out input data. Let's try this again:"
      ]
    },
    {
      "cell_type": "code",
      "source": [
        "# Using the COSINE_SIMILARITY FUNCTION from sklearn.metrics\n",
        "aa = a.reshape(1, -1) # reshape to 2D array with one row\n",
        "ba = b.reshape(1, -1) # reshape to 2D array with one row\n",
        "\n",
        "cos3 = cosine_similarity(aa, ba)[0][0]  # Get the cosine similarity value\n",
        "\n",
        "# Ensure the value is in the range [-1, 1] to avoid domain errors in acos\n",
        "cos3 = np.clip(cos3, -1.0, 1.0)\n",
        "\n",
        "# Now we need to convert the angle to radians to get the degrees\n",
        "angle_in_radians3 = math.acos(cos3)\n",
        "degrees3 = math.degrees(angle_in_radians3)\n",
        "\n",
        "print(\"Cosine similarity:\", cos3)\n",
        "print(\"Angle in radians:\", angle_in_radians3)\n",
        "print(\"Angle in degrees:\", degrees3)"
      ],
      "metadata": {
        "id": "NOX7bkCx0MVI"
      },
      "execution_count": null,
      "outputs": []
    },
    {
      "cell_type": "markdown",
      "metadata": {
        "id": "gtYwYBWO9QD7"
      },
      "source": [
        "As you can see, both, the manual calculation and the calculation with  scikit-learn get us identical results. On to bigger and better things!"
      ]
    },
    {
      "cell_type": "markdown",
      "metadata": {
        "id": "zfu2pP8-9ga9"
      },
      "source": [
        "###**1.3.2 Cosine Similarity with the adult Dataset**\n",
        "Now we are going to apply what we have learned above to the adult dataset. Remember that the inputs MUST be numeric!"
      ]
    },
    {
      "cell_type": "code",
      "metadata": {
        "id": "Cn_z8WTwn0Zb"
      },
      "source": [
        "# First, we convert two attributes to numpy arrays\n",
        "a = np.array(adult.age)\n",
        "b = np.array(adult.incomeUSD)\n",
        "\n",
        "# Manually computing cosine similarity\n",
        "dot = np.dot(a, b)  # the dot product\n",
        "norma = np.linalg.norm(a)  # normalizing vector a\n",
        "normb = np.linalg.norm(b)  # normalizing vector b\n",
        "cos4 = dot / (norma * normb)  # computing the angle by dividing the dot product by the normalized vectors\n",
        "\n",
        "print(cos4)"
      ],
      "execution_count": null,
      "outputs": []
    },
    {
      "cell_type": "markdown",
      "metadata": {
        "id": "quKt-6zl-NsC"
      },
      "source": [
        "### Your Turn\n",
        "1. Compute the angle in degrees from the cos4 value shown above. Use the code field below."
      ]
    },
    {
      "cell_type": "code",
      "metadata": {
        "id": "LYH3NEHe-eP9"
      },
      "source": [],
      "execution_count": null,
      "outputs": []
    },
    {
      "cell_type": "markdown",
      "metadata": {
        "id": "c_dsjHdd-iyY"
      },
      "source": [
        "2. Now, use sklearn.metrics to compute the angle between adult.educationyears and adult.incomeUSD.\n",
        "\n",
        "Remember to reshape the input data. Each vector has 25000 values."
      ]
    },
    {
      "cell_type": "code",
      "metadata": {
        "id": "PtU85SO19_oz"
      },
      "source": [],
      "execution_count": null,
      "outputs": []
    },
    {
      "cell_type": "code",
      "metadata": {
        "id": "MN9-my85n0Ze"
      },
      "source": [
        "# Here is a solution that uses the spatial package from scipy\n",
        "\n",
        "a = np.array(adult.educationyears)\n",
        "b = np.array(adult.incomeUSD)\n",
        "\n",
        "result = 1 - spatial.distance.cosine(a, b)\n",
        "\n",
        "# Now we need to convert the angle to radians to get the degrees\n",
        "angle_in_radians = math.acos(result)\n",
        "degrees = math.degrees(angle_in_radians)\n",
        "\n",
        "#print(result, degrees)"
      ],
      "execution_count": 22,
      "outputs": []
    },
    {
      "cell_type": "markdown",
      "metadata": {
        "id": "DhBj3qNfn0Zj"
      },
      "source": [
        "#**2. Chi Square**\n",
        "We just learned that Cosine Similarity explains the relationship between numerical attributes or vectors. But what about the other BIG data type--categorical data? That is where Chi Square comes in.\n",
        "\n",
        "**Chi Square calculates the relationship between Observed and Expected Values between two CATEGORICAL attributes like in this picture:**\n",
        "\n",
        "<img src = 'https://i.stack.imgur.com/pe4qu.png'>\n",
        "\n",
        "To understand how Chi Square works, let's review **hypothesis testing** right quick: You may remember that all hypothesis testing starts by setting up an H0 (null hypothesis) and an Ha (alternative hypothesis). The null hypothesis states whether you assume that the two variables to compare are either dependent or independent (or equal, depending on the math that follows). Then, we use complicated math that results in a **p-value**. If this **p-value is > 0.05 (5%), then your H0 is most likely true; if it is < 0.05 (5%), then your H0 is potentially wrong and Ha is more likely true.**\n",
        "\n",
        "Click [this link](https://www.mathsisfun.com/data/chi-square-test.html) to see a great explanation.\n",
        "\n",
        "**THINGS TO REMEMBER** about a Chi Square test:\n",
        "1. Is a hypothesis test based on categorical attributes.\n",
        "2. Uses as its H0 that the two variables under investigation are independent\n",
        "3. Uses a chi square table\n",
        "3. If the resulting p-value is > 0.05, both variables are independent\n",
        "4. If the resulting p-value is < 0.05, both variables are dependent\n",
        "\n",
        "Soooo ... ever wondered whether there was a connection between the color of a character's uniform and their survival rate on Star Trek's U.S.S. Enterprise? Wonder no more, but [check out the Chi Square calculation right here](https://statisticsbyjim.com/hypothesis-testing/chi-square-test-independence-example/).\n",
        "\n",
        "<center><img src = 'https://i0.wp.com/statisticsbyjim.com/wp-content/uploads/2017/03/red_shirt_meme.jpg'></center>\n"
      ]
    },
    {
      "cell_type": "markdown",
      "metadata": {
        "id": "hQaq8s8Fn0Zk"
      },
      "source": [
        "**In terms of programming**, the most convenient, way is [scipy.stats.chi2_contingency](https://docs.scipy.org/doc/scipy/reference/generated/scipy.stats.chi2_contingency.html). chi2_contingency automatically computes the expected values from the chi square table, so you don't have to. The entire output can be captured in 4 variables: **chi square number, p-value, degrees of freedom and the array itself.** chi2_contingency works with n-dimensional contingency tables. This is what we need!"
      ]
    },
    {
      "cell_type": "code",
      "metadata": {
        "id": "O8bM1wgln0Zl"
      },
      "source": [
        "# Note that pd.crosstab establishes the two-way table\n",
        "# We can even use a print command to format the output:\n",
        "chi2, p, dof, expected = chi2_contingency((pd.crosstab(adult.nativecountry, adult.occupation).values))\n",
        "print (f'Chi-square Statistic: {chi2} ,p-value: {p}, Degrees of Freedom: {dof}')"
      ],
      "execution_count": null,
      "outputs": []
    },
    {
      "cell_type": "markdown",
      "source": [
        "###Your Turn\n",
        "\n",
        "Calculate the Chi Square relationship between sex and occupation in the adult dataset. Is occupational status dependent on, or independent from, sex?"
      ],
      "metadata": {
        "id": "F6O5b5EuO9IU"
      }
    },
    {
      "cell_type": "code",
      "source": [],
      "metadata": {
        "id": "xraZbXJEPQRz"
      },
      "execution_count": null,
      "outputs": []
    },
    {
      "cell_type": "markdown",
      "metadata": {
        "id": "8Q0_rPKnn0Zp"
      },
      "source": [
        "# **3. Covariance and Correlation**\n",
        "Covariance is, essentially, the little brother of correlation. The goal for both calculations/ algorithms (about time we used that term, isn't it?) is to determine if two variables are tightly enough connected that we can detect a pattern to their changes. In other words, we want to see if, when one variable changes, the other variable changes as well, in a predictable fashion.\n",
        "\n",
        "More about Correlation and Covariance in the video below\n"
      ]
    },
    {
      "cell_type": "code",
      "metadata": {
        "colab": {
          "base_uri": "https://localhost:8080/",
          "height": 374
        },
        "id": "dN_3QPijvcDo",
        "outputId": "add4fad3-e81b-45bd-c931-d6dd22965d40"
      },
      "source": [
        "HTML('<iframe width=\"560\" height=\"315\" src=\"https://www.youtube.com/embed/mwZbt11azGo\" title=\"YouTube video player\" frameborder=\"0\" allow=\"accelerometer; autoplay; clipboard-write; encrypted-media; gyroscope; picture-in-picture\" allowfullscreen></iframe>')"
      ],
      "execution_count": 24,
      "outputs": [
        {
          "output_type": "stream",
          "name": "stderr",
          "text": [
            "/usr/local/lib/python3.10/dist-packages/IPython/core/display.py:724: UserWarning: Consider using IPython.display.IFrame instead\n",
            "  warnings.warn(\"Consider using IPython.display.IFrame instead\")\n"
          ]
        },
        {
          "output_type": "execute_result",
          "data": {
            "text/plain": [
              "<IPython.core.display.HTML object>"
            ],
            "text/html": [
              "<iframe width=\"560\" height=\"315\" src=\"https://www.youtube.com/embed/mwZbt11azGo\" title=\"YouTube video player\" frameborder=\"0\" allow=\"accelerometer; autoplay; clipboard-write; encrypted-media; gyroscope; picture-in-picture\" allowfullscreen></iframe>"
            ]
          },
          "metadata": {},
          "execution_count": 24
        }
      ]
    },
    {
      "cell_type": "markdown",
      "metadata": {
        "id": "THFHGWfom3ko"
      },
      "source": [
        "##**3.1 Covariance**\n",
        "Covariance indicates the relationship of two variables whenever one variable changes. If an **increase** in one variable results in an **increase** in the other variable, both variables are said to have a positive covariance (the same is two if both variables decrease), which show up as a positive number. If an increase in one variable causes a decrease in the other, that is a negative covariance, i.e. an inverse relationships, which is indicated by a negative number.\n",
        "\n",
        "Since covariance uses only numeric attributes, we can get np.cov() to work easily with educationyears and incomeUSD. For that purpose, we will use np.cov().\n",
        "\n",
        "Note that, by default np.cov calculates the **SAMPLE** covariance. To get the **POPULATION** covariance, I had to set the Degrees of Freedom to 0. Or, as shown below, you can set bias to True. If you omit bias, you will calculate the SAMPLE variance."
      ]
    },
    {
      "cell_type": "code",
      "metadata": {
        "id": "Up724smTn0Zp"
      },
      "source": [
        "# SAMPLE covariance assumes that degrees of freedom, i.e. ddof=1\n",
        "np.cov([adult.educationyears],[adult.incomeUSD])[0][1]"
      ],
      "execution_count": null,
      "outputs": []
    },
    {
      "cell_type": "code",
      "metadata": {
        "id": "U2lxA2Y2n0Zs"
      },
      "source": [
        "# POPULATION covariance can be calculated by setting ddof=0\n",
        "np.cov([adult.educationyears],[adult.incomeUSD], ddof=0)[0][1]"
      ],
      "execution_count": null,
      "outputs": []
    },
    {
      "cell_type": "code",
      "metadata": {
        "id": "4KFfvVBQn0Zv"
      },
      "source": [
        "# POPULATION covariance with bias=True setting\n",
        "np.cov([adult.educationyears],[adult.incomeUSD], bias=True)[0][1]"
      ],
      "execution_count": null,
      "outputs": []
    },
    {
      "cell_type": "code",
      "metadata": {
        "id": "yqNvuNWJn0Z0"
      },
      "source": [
        "# SAMPLE covariance omitting bias=True setting\n",
        "np.cov([adult.educationyears],[adult.incomeUSD])[0][1]"
      ],
      "execution_count": null,
      "outputs": []
    },
    {
      "cell_type": "markdown",
      "metadata": {
        "id": "jM4LisuT5FKB"
      },
      "source": [
        "So, what do all these numbers mean?\n",
        "\n",
        "Take the last one here: If the years of education increase by 1, the income in USD increases by $33,078. As you can see, the bias setting does not make much of a difference with smaller numbers. With larger numbers, that is a very different ballgame."
      ]
    },
    {
      "cell_type": "markdown",
      "metadata": {
        "id": "1TJ68YaJ635T"
      },
      "source": [
        "## Your Turn\n",
        "Now, calculate the covariance between age and incomeUSD for the POPULATION (remember the bias setting!). Use the code line below."
      ]
    },
    {
      "cell_type": "code",
      "metadata": {
        "id": "j-xzhIxr7LTh"
      },
      "source": [],
      "execution_count": null,
      "outputs": []
    },
    {
      "cell_type": "markdown",
      "metadata": {
        "id": "9Qp6nTuJn0Z2"
      },
      "source": [
        "## **3.2 Correlation**\n",
        "\n",
        "As with Chi Square and Covariance, there are numerous ways to calculate the Pearson Correlation Coefficient. The most efficient and elegant way to do this is using the corr() function in pandas. This function can also handle multiple correlations and will, in fact, produce a table with the r values. NOTE that all inputs must be numeric!\n",
        "\n",
        "If correlation (i.e. the Pearson Correlation Coefficient) is between -1 and 0, then the attributes are negatively correlated (as one grows, another one falls). If correlation is between 0 and +1, then the attributes are positively correlated (both move in the same direction). The correlation coefficient is typically called r.\n",
        "\n",
        "Check out the graphic below to see what the different values of r look like.\n",
        "\n",
        "<img src = 'https://media.nagwa.com/359143010784/en/thumbnail_l.jpeg'>"
      ]
    },
    {
      "cell_type": "markdown",
      "metadata": {
        "id": "4gVAtDLyKJT1"
      },
      "source": [
        "Now on to our task!"
      ]
    },
    {
      "cell_type": "code",
      "metadata": {
        "id": "erJ8ISQNn0Z3"
      },
      "source": [
        "# We first want to see if educationyears and incomeUSD are correlated. So, we pass both arrays into the function:\n",
        "corr_edUSD = adult['educationyears'].corr(adult['incomeUSD'])\n",
        "corr_edUSD"
      ],
      "execution_count": null,
      "outputs": []
    },
    {
      "cell_type": "code",
      "metadata": {
        "id": "yEtEFd1cn0Z5",
        "colab": {
          "base_uri": "https://localhost:8080/",
          "height": 472
        },
        "outputId": "8ccf55df-13d1-466b-9fe0-c75fb91a35d3"
      },
      "source": [
        "# We can now plot this with pyplot\n",
        "plt.scatter(adult['educationyears'], adult['incomeUSD'], alpha=0.5)\n",
        "plt.title('Scatter plot educationyears vs. incomeUSD')\n",
        "plt.xlabel('educationyears')\n",
        "plt.ylabel('incomeUSD')\n",
        "plt.show()"
      ],
      "execution_count": 30,
      "outputs": [
        {
          "output_type": "display_data",
          "data": {
            "text/plain": [
              "<Figure size 640x480 with 1 Axes>"
            ],
            "image/png": "[encoded data removed]"
          },
          "metadata": {}
        }
      ]
    },
    {
      "cell_type": "code",
      "metadata": {
        "id": "QdE_xhAkn0Z7"
      },
      "source": [
        "# The power of the corr() function lies in its ability to handle multiple dimensions at the same time:\n",
        "corr = adult.corr(numeric_only=True)\n",
        "corr"
      ],
      "execution_count": null,
      "outputs": []
    },
    {
      "cell_type": "code",
      "metadata": {
        "id": "pIsXk8H_n0Z_"
      },
      "source": [
        "# Now we can make a pretty correlation heatmap with pyplot\n",
        "fig = plt.figure()\n",
        "ax = fig.add_subplot(111)\n",
        "cax = ax.matshow(corr,cmap='coolwarm', vmin=-1, vmax=1)\n",
        "fig.colorbar(cax)\n",
        "ticks = np.arange(0,len(corr.columns),1)\n",
        "ax.set_xticks(ticks)\n",
        "plt.xticks(rotation=90)\n",
        "ax.set_yticks(ticks)\n",
        "ax.set_xticklabels(corr.columns)\n",
        "ax.set_yticklabels(corr.columns)\n",
        "plt.show()"
      ],
      "execution_count": null,
      "outputs": []
    },
    {
      "cell_type": "markdown",
      "metadata": {
        "id": "uyJGWLzFn0aC"
      },
      "source": [
        "In the examples above, we see the most frequently used Pearson Correlation in action. The corr() function allows us to work with other kinds of correlations, as well, including the Spearman correlation.\n",
        "For some great examples, take a look at this website: https://www.datascience.com/learn-data-science/fundamentals/introduction-to-correlation-python-data-science"
      ]
    },
    {
      "cell_type": "markdown",
      "metadata": {
        "id": "_H2wvPHOKb6v"
      },
      "source": [
        "##Your Turn\n",
        "Now, calculate the following:\n",
        "1. The COVARIANCE between hoursperweek and incomeUSD"
      ]
    },
    {
      "cell_type": "code",
      "metadata": {
        "id": "gHA-KvfRKrac"
      },
      "source": [],
      "execution_count": null,
      "outputs": []
    },
    {
      "cell_type": "markdown",
      "metadata": {
        "id": "pCIaMU87Kr20"
      },
      "source": [
        "2. The CORRELATION between hoursperweek and incomeUSD"
      ]
    },
    {
      "cell_type": "code",
      "metadata": {
        "id": "7zd35pTpKwGI"
      },
      "source": [],
      "execution_count": null,
      "outputs": []
    },
    {
      "cell_type": "markdown",
      "metadata": {
        "id": "s1mOvWU2Kwdk"
      },
      "source": [
        "Can you explain how the two numbers are related?"
      ]
    },
    {
      "cell_type": "markdown",
      "source": [
        "#**4. If you get stuck ...**\n",
        "\n",
        "Below are the solutions to the Your Turn exercises."
      ],
      "metadata": {
        "id": "mybIoBG2I-5T"
      }
    },
    {
      "cell_type": "code",
      "source": [
        "# 1.1 Euclidean Distance\n",
        "\n",
        "point3 = np.array((adult.educationyears))\n",
        "point4 = np.array((adult.incomeUSD))\n",
        "\n",
        "# Using linalg\n",
        "dist1 = np.linalg.norm(point3 - point4)\n",
        "\n",
        "# Using dot product\n",
        "temp = point3 - point4\n",
        "sum_sq1 = np.dot(temp.T, temp)\n",
        "\n",
        "# Printing Euclidean distance\n",
        "print(\"(LINALG CALCULATION) Euclidean distance between educationyears and incomeUSD is:\", dist1)\n",
        "print(\"(DOT PRODUCT) Euclidean distance between our two arrays is:\",np.sqrt(sum_sq1))\n",
        "print(\"Previously calculated Euclidean distance between age and incomeUSD was:\", dist)"
      ],
      "metadata": {
        "id": "fKaSAxk3JHUy"
      },
      "execution_count": null,
      "outputs": []
    },
    {
      "cell_type": "code",
      "source": [
        "# 1.2 Manhattan Distance\n",
        "\n",
        "point5 = np.array((adult.educationyears))\n",
        "point6 = np.array((adult.incomeUSD))\n",
        "\n",
        "print(\"Manhattan Distance between educationyears and incomeUSD:\", dist.cityblock(point5,point6))\n",
        "print(\"Previously calculated Manhattan distance between age and incomeUSD was:\", dist.cityblock(point1,point2))"
      ],
      "metadata": {
        "id": "fxyIClyyKSPk"
      },
      "execution_count": null,
      "outputs": []
    },
    {
      "cell_type": "code",
      "source": [
        "# 1.3 Cosine Similarity between educationyears and incomeUSD\n",
        "\n",
        "# METHOD 1: Final computation for the dot product part\n",
        "angle_in_radians4 = math.acos(cos4)\n",
        "degrees4 = math.degrees(angle_in_radians4)\n",
        "\n",
        "print(\"Dot Product Computation Result:\", cos4, angle_in_radians4, degrees4)\n",
        "\n",
        "# METHOD 2: Using the COSINE_SIMILARITY FUNCTION from sklearn.metrics\n",
        "\n",
        "x = np.array((adult.educationyears))\n",
        "y = np.array((adult.incomeUSD))\n",
        "\n",
        "xx = x.reshape(1,32561) # we have 32561 values in our array\n",
        "yy = y.reshape(1,32561) # we have 32561 values in our array\n",
        "cos6 = cosine_similarity(xx, yy)\n",
        "\n",
        "# Now we need to convert the angle to radians to get the degrees\n",
        "angle_in_radians6 = math.acos(cos6)\n",
        "degrees6 = math.degrees(angle_in_radians6)\n",
        "\n",
        "print(\"sklearn.metrics Result:\", cos6, angle_in_radians6, degrees6)"
      ],
      "metadata": {
        "id": "KHxONF6YLk48"
      },
      "execution_count": null,
      "outputs": []
    },
    {
      "cell_type": "code",
      "source": [
        "# 2. Chi Square relationship between sex and occupation in the adult dataset. Is occupational status dependent on, or independent from, sex?\n",
        "\n",
        "chi2, p, dof, expected = chi2_contingency((pd.crosstab(adult.sex, adult.occupation).values))\n",
        "print (f'Chi-square Statistic: {chi2} ,p-value: {p}, Degrees of Freedom: {dof}')\n",
        "print (\"Look for the p value--if it is < 0.05, we cannot assume that the two variables are independent from each other; they must be dependent.\")"
      ],
      "metadata": {
        "id": "q1aiyJS_Sv3k"
      },
      "execution_count": null,
      "outputs": []
    },
    {
      "cell_type": "code",
      "source": [
        "# 3.1 Covariance between age and incomeUSD for the POPULATION (remember the bias setting!).\n",
        "\n",
        "age_income_cov = np.cov([adult.age],[adult.incomeUSD])[0][1]\n",
        "print(\"The covariance between age and incomeUSD is:\", age_income_cov)\n",
        "print(\"This means that if age increases by 1, the income increases by $\", age_income_cov)\n",
        "\n",
        "# 3.2 Correlation\n",
        "\n",
        "# COVARIANCE between hoursperweek and incomeUSD\n",
        "hrs_income_cov = np.cov([adult.hoursperweek],[adult.incomeUSD])[0][1]\n",
        "print(\"The covariance between age and incomeUSD is:\", hrs_income_cov)\n",
        "print(\"This means that if hoursperweek increases by 1, the income increases by $\", hrs_income_cov)\n",
        "\n",
        "# CORRELATION between hoursperweek and incomeUSD\n",
        "corr_hrsUSD = adult['hoursperweek'].corr(adult['incomeUSD'])\n",
        "print(\"The correlation between hoursperweek and incomeUSD is:\", corr_hrsUSD)\n",
        "\n",
        "plt.scatter(adult['hoursperweek'], adult['incomeUSD'], alpha=0.5)\n",
        "plt.title('Scatter plot hoursperweek vs. incomeUSD')\n",
        "plt.xlabel('hoursperweek')\n",
        "plt.ylabel('incomeUSD')\n",
        "plt.show()"
      ],
      "metadata": {
        "id": "mxjK6fA0TcmE"
      },
      "execution_count": null,
      "outputs": []
    }
  ]
}