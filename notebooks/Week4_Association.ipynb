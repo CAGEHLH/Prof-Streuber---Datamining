{
 "cells": [
  {
   "cell_type": "markdown",
   "metadata": {},
   "source": [
    "# Week 4: Measures of Association\n",
    "As we have seen, evaluating the relationship between variables is at the heart of data mining. We have a number of techniques at our disposal:\n",
    "1. Distance calculations like Euclidian, Manhattan, Cosine Similarity (and some others)\n",
    "2. Measures of Independence like Chi Square, Covariance, and Correlation\n",
    "3. Predictive Measures like Regression and ANOVA\n",
    "In this notebook, we will spend most of our time on 2. Measures of Independence and on the adult dataset."
   ]
  },
  {
   "cell_type": "code",
   "execution_count": 15,
   "metadata": {},
   "outputs": [],
   "source": [
    "# We are setting up the environment with all the packages we could possibly need\n",
    "# For pandas documentation, see https://pandas.pydata.org/pandas-docs/stable/api.html#dataframe\n",
    "# For matplotlib documentation, see https://matplotlib.org/api/pyplot_summary.html\n",
    "\n",
    "import numpy as np\n",
    "import pandas as pd \n",
    "import math\n",
    "import matplotlib.pyplot as plt\n",
    "from scipy import spatial\n",
    "from scipy.stats import chisquare\n",
    "from scipy.stats import chi2_contingency\n",
    "from sklearn.metrics.pairwise import cosine_similarity"
   ]
  },
  {
   "cell_type": "code",
   "execution_count": 5,
   "metadata": {},
   "outputs": [],
   "source": [
    "#Reading in the data as adult dataframe\n",
    "adult = pd.read_csv(\"https://raw.githubusercontent.com/shstreuber/Data-Mining/master/data/adult.data.simplified.csv\")\n",
    "# adult  # To verify that you have read in the dataframe, remove the # in front of adult"
   ]
  },
  {
   "cell_type": "markdown",
   "metadata": {},
   "source": [
    "## 0. Cosine Similarity\n",
    "\n",
    "Cosine similarity is the normalized dot product between two vectors. \n",
    "The dot product is the product of the Euclidean magnitudes of the two vectors\n",
    "The cosine is the cosine of the angle between these two vectors. \n",
    "More information is here: https://scikit-learn.org/stable/modules/generated/sklearn.metrics.pairwise.cosine_similarity.html"
   ]
  },
  {
   "cell_type": "code",
   "execution_count": 24,
   "metadata": {},
   "outputs": [
    {
     "name": "stdout",
     "output_type": "stream",
     "text": [
      "15 0.9449111825230682 0.9449111825230683 19.10660535086906\n"
     ]
    }
   ],
   "source": [
    "# Here is how this works on a very small example, with two made-up vectors\n",
    "# Note that all the vectors MUST be numeric!\n",
    "\n",
    "# Here are the vectors\n",
    "a = np.array([1,2,3])\n",
    "b = np.array([1,1,4])\n",
    " \n",
    "# We can manually compute cosine similarity\n",
    "dot = np.dot(a, b)  # the dot product\n",
    "norma = np.linalg.norm(a)  # normalizing vector a\n",
    "normb = np.linalg.norm(b)  # normalizing vector b\n",
    "cos = dot / (norma * normb)  # computing the angle by dividing the dot product by the normalized vectors\n",
    " \n",
    "# Or we use the cosine_similary function from sklearn.metrics\n",
    "aa = a.reshape(1,3)\n",
    "ba = b.reshape(1,3)\n",
    "cos_lib = cosine_similarity(aa, ba)\n",
    "\n",
    "# Now we need to convert the angle to radians to get the degrees\n",
    "angle_in_radians = math.acos(cos_lib)\n",
    "degrees = math.degrees(angle_in_radians)\n",
    " \n",
    "print(\n",
    "    dot,\n",
    "    cos,\n",
    "    cos_lib[0][0],\n",
    "    degrees\n",
    ")"
   ]
  },
  {
   "cell_type": "code",
   "execution_count": 23,
   "metadata": {},
   "outputs": [
    {
     "name": "stdout",
     "output_type": "stream",
     "text": [
      "19649959299 0.8066671273202539 0.8066671273202539 36.228432779527736\n"
     ]
    }
   ],
   "source": [
    "# Here is how this works with the adult dataset\n",
    "\n",
    "a = np.array(adult.educationyears)\n",
    "b = np.array(adult.incomeUSD)\n",
    "\n",
    "# Manually computing cosine similarity\n",
    "dot = np.dot(a, b)  # the dot product\n",
    "norma = np.linalg.norm(a)  # normalizing vector a\n",
    "normb = np.linalg.norm(b)  # normalizing vector b\n",
    "cos = dot / (norma * normb)  # computing the angle by dividing the dot product by the normalized vectors\n",
    "\n",
    "# Now we use the cosine_similary function from sklearn.metrics\n",
    "aa = a.reshape(1,32561)\n",
    "ba = b.reshape(1,32561)\n",
    "cos_lib = cosine_similarity(aa, ba)\n",
    "\n",
    "# Now we need to convert the angle to radians to get the degrees\n",
    "angle_in_radians = math.acos(cos_lib)\n",
    "degrees = math.degrees(angle_in_radians)\n",
    "\n",
    "print(\n",
    "    dot,\n",
    "    cos,\n",
    "    cos_lib[0][0], \n",
    "    degrees\n",
    ")"
   ]
  },
  {
   "cell_type": "code",
   "execution_count": 25,
   "metadata": {},
   "outputs": [
    {
     "name": "stdout",
     "output_type": "stream",
     "text": [
      "0.8066671273202538 36.22843277952774\n"
     ]
    }
   ],
   "source": [
    "# Here is a solution that uses the spatial package from scipy\n",
    "\n",
    "a = np.array(adult.educationyears)\n",
    "b = np.array(adult.incomeUSD)\n",
    "\n",
    "result = 1 - spatial.distance.cosine(a, b)\n",
    "\n",
    "# Now we need to convert the angle to radians to get the degrees\n",
    "angle_in_radians = math.acos(result)\n",
    "degrees = math.degrees(angle_in_radians)\n",
    "\n",
    "print(\n",
    "    result, \n",
    "    degrees\n",
    ")"
   ]
  },
  {
   "cell_type": "markdown",
   "metadata": {},
   "source": [
    "## 1. Chi Square\n",
    "Remember that a Chi Square test:\n",
    "1. Is a hypothesis test based on categorical attributes.\n",
    "2. Uses as its H0 that the two variables under investigation are independent\n",
    "3. If the resulting p-value is > 0.05, both variables are independent\n",
    "4. If the resulting p-value is < 0.05, both variables are dependent"
   ]
  },
  {
   "cell_type": "markdown",
   "metadata": {},
   "source": [
    "We have TWO options:\n",
    "1. The first, and most convenient, way is scipy.stats.chi2_contingency (documentation is here: https://docs.scipy.org/doc/scipy/reference/generated/scipy.stats.chi2_contingency.html). chi2_contingency automatically computes the expected values from the table, so you don't have to. The entire output can be captured in 4 variables: chi square number, p-value, degrees of freedom and the array itself. chi2_contingency works with n-dimensional contingency tables. This is what we need!\n",
    "2. The older, and more complicated, way is scipy.stats.chisquare (documentation is at https://docs.scipy.org/doc/scipy-0.13.0/reference/generated/scipy.stats.chisquare.html). Quite a bit of munging/ preprocessing is required before we can use this algorithm: \n",
    "* chisquare will work only with numeric values, so we will have to transform any strings to numbers.\n",
    "* chisquare will work only with a flattened 2-dimensional array, so we will have to figure out what to do here\n",
    "* Other than with the chi2_contingency function we will have to calculate the expected frequencies ourselves: \n",
    "  np.outer(obs.sum(axis=1), obs.sum(axis=0)) / obs.sum()\n",
    "This is why we will use option 1, chi2_contingency"
   ]
  },
  {
   "cell_type": "code",
   "execution_count": 78,
   "metadata": {},
   "outputs": [
    {
     "name": "stdout",
     "output_type": "stream",
     "text": [
      "Chi-square Statistic: 2437.2965238719535 ,p-value: 3.056006193732551e-227, Degrees of Freedom: 574\n"
     ]
    }
   ],
   "source": [
    "# First, the convenient way with a single line \n",
    "# Note that pd.crosstab establishes the two-way table\n",
    "# We can even use a print command to format the output:\n",
    "chi2, p, dof, expected = chi2_contingency((pd.crosstab(adult.nativecountry, adult.occupation).values))\n",
    "print (f'Chi-square Statistic: {chi2} ,p-value: {p}, Degrees of Freedom: {dof}')"
   ]
  },
  {
   "cell_type": "markdown",
   "metadata": {},
   "source": [
    "Here is the code for the more complicated scipy.stats.chisquare:\n",
    "1. obs = np.array([a,b]).astype(float)\n",
    "NOTE: The issue will be to set up the array correctly, since chisquare expects to see the counts, but will not accept the output from pd.crosstab.  \n",
    "2. exp = np.outer(obs.sum(axis=1), obs.sum(axis=0)) / obs.sum()\n",
    "NOTE: This will calculate the expected frequencies. axis=0 is columns, axis=1 is rows. It expects even dimensions, which is why it will not work with the output from pd.crosstabs\n",
    "3. chi2, pvalue = scipy.stats.chisquare(obs.ravel(), exp.ravel(), ddof=sum(obs.shape)-2)\n",
    "NOTE: This should return the same chi2 test statistic and p-value as before.\n",
    "\n",
    "The obvious challenge here is to set up the array for categorical variables such that it can work with equation 2. Give it a try! There is a great example here: http://hamelg.blogspot.com/2015/11/python-for-data-analysis-part-25-chi.html"
   ]
  },
  {
   "cell_type": "markdown",
   "metadata": {},
   "source": [
    "## 2. Covariance\n",
    "Since covariance uses only numeric attributes, we can get np.cov() to work easily with educationyears and incomeUSD. For that purpose, we will use np.cov(). \n",
    "Note that, by default np.cov calculates the SAMPLE covariance. To get the POPULATION covariance, I had to set the Degrees of Freedom to 0. Or, as shown below, you can set bias to True. If you omit bias, you will calculate the SAMPLE variance."
   ]
  },
  {
   "cell_type": "code",
   "execution_count": 85,
   "metadata": {},
   "outputs": [
    {
     "data": {
      "text/plain": [
       "33078.30227761131"
      ]
     },
     "execution_count": 85,
     "metadata": {},
     "output_type": "execute_result"
    }
   ],
   "source": [
    "# SAMPLE covariance assumes that ddof=1\n",
    "np.cov([adult.educationyears],[adult.incomeUSD])[0][1]"
   ]
  },
  {
   "cell_type": "code",
   "execution_count": 84,
   "metadata": {},
   "outputs": [
    {
     "data": {
      "text/plain": [
       "33078.30227761131"
      ]
     },
     "execution_count": 84,
     "metadata": {},
     "output_type": "execute_result"
    }
   ],
   "source": [
    "# POPULATION covariance can be calculated by setting ddof=0\n",
    "np.cov([adult.educationyears],[adult.incomeUSD], ddof=0)[0][1]"
   ]
  },
  {
   "cell_type": "code",
   "execution_count": 82,
   "metadata": {},
   "outputs": [
    {
     "data": {
      "text/plain": [
       "33077.286390437155"
      ]
     },
     "execution_count": 82,
     "metadata": {},
     "output_type": "execute_result"
    }
   ],
   "source": [
    "# POPULATION covariance with bias=True setting\n",
    "np.cov([adult.educationyears],[adult.incomeUSD], bias=True)[0][1]"
   ]
  },
  {
   "cell_type": "code",
   "execution_count": 83,
   "metadata": {},
   "outputs": [
    {
     "data": {
      "text/plain": [
       "33078.30227761131"
      ]
     },
     "execution_count": 83,
     "metadata": {},
     "output_type": "execute_result"
    }
   ],
   "source": [
    "# SAMPLE covariance omitting bias=True setting\n",
    "np.cov([adult.educationyears],[adult.incomeUSD])[0][1]"
   ]
  },
  {
   "cell_type": "markdown",
   "metadata": {},
   "source": [
    "## 3. Correlation\n",
    "As with Chi Square and Covariance, there are numerous ways to calculate the Pearson Correlation Coefficient. The most efficient and elegant way to do this is using the corr() function in pandas. This function can also handle multiple correlations and will, in fact, produce a table with the R-squared values. NOTE that all inputs must be numeric!\n",
    "\n",
    "If correlation >-1 <0, then the attributes are negatively correlated (as one grows, another one falls). If correlation >0 <1, then the attributes are positively correlated (both move in the same direction)."
   ]
  },
  {
   "cell_type": "code",
   "execution_count": 99,
   "metadata": {},
   "outputs": [
    {
     "data": {
      "text/plain": [
       "0.28974519143448324"
      ]
     },
     "execution_count": 99,
     "metadata": {},
     "output_type": "execute_result"
    }
   ],
   "source": [
    "# We first want to see if educationyears and incomeUSD are correlated. So, we pass both arrays into the function:\n",
    "corr_edUSD = adult['educationyears'].corr(adult['incomeUSD'])\n",
    "corr_edUSD"
   ]
  },
  {
   "cell_type": "code",
   "execution_count": 102,
   "metadata": {},
   "outputs": [
    {
     "data": {
      "image/png": "[encoded data removed]",
      "text/plain": [
       "<Figure size 432x288 with 1 Axes>"
      ]
     },
     "metadata": {
      "needs_background": "light"
     },
     "output_type": "display_data"
    }
   ],
   "source": [
    "# We can now plot this with pyplot\n",
    "plt.scatter(adult['educationyears'], adult['incomeUSD'], alpha=0.5)\n",
    "plt.title('Scatter plot educationyears vs. incomeUSD')\n",
    "plt.xlabel('educationyears')\n",
    "plt.ylabel('incomeUSD')\n",
    "plt.show()"
   ]
  },
  {
   "cell_type": "code",
   "execution_count": 93,
   "metadata": {},
   "outputs": [
    {
     "data": {
      "text/html": [
       "<div>\n",
       "<style scoped>\n",
       "    .dataframe tbody tr th:only-of-type {\n",
       "        vertical-align: middle;\n",
       "    }\n",
       "\n",
       "    .dataframe tbody tr th {\n",
       "        vertical-align: top;\n",
       "    }\n",
       "\n",
       "    .dataframe thead th {\n",
       "        text-align: right;\n",
       "    }\n",
       "</style>\n",
       "<table border=\"1\" class=\"dataframe\">\n",
       "  <thead>\n",
       "    <tr style=\"text-align: right;\">\n",
       "      <th></th>\n",
       "      <th>age</th>\n",
       "      <th>educationyears</th>\n",
       "      <th>hoursperweek</th>\n",
       "      <th>incomeUSD</th>\n",
       "    </tr>\n",
       "  </thead>\n",
       "  <tbody>\n",
       "    <tr>\n",
       "      <th>age</th>\n",
       "      <td>1.000000</td>\n",
       "      <td>0.036527</td>\n",
       "      <td>0.068756</td>\n",
       "      <td>0.198187</td>\n",
       "    </tr>\n",
       "    <tr>\n",
       "      <th>educationyears</th>\n",
       "      <td>0.036527</td>\n",
       "      <td>1.000000</td>\n",
       "      <td>0.148123</td>\n",
       "      <td>0.289745</td>\n",
       "    </tr>\n",
       "    <tr>\n",
       "      <th>hoursperweek</th>\n",
       "      <td>0.068756</td>\n",
       "      <td>0.148123</td>\n",
       "      <td>1.000000</td>\n",
       "      <td>0.201811</td>\n",
       "    </tr>\n",
       "    <tr>\n",
       "      <th>incomeUSD</th>\n",
       "      <td>0.198187</td>\n",
       "      <td>0.289745</td>\n",
       "      <td>0.201811</td>\n",
       "      <td>1.000000</td>\n",
       "    </tr>\n",
       "  </tbody>\n",
       "</table>\n",
       "</div>"
      ],
      "text/plain": [
       "                     age  educationyears  hoursperweek  incomeUSD\n",
       "age             1.000000        0.036527      0.068756   0.198187\n",
       "educationyears  0.036527        1.000000      0.148123   0.289745\n",
       "hoursperweek    0.068756        0.148123      1.000000   0.201811\n",
       "incomeUSD       0.198187        0.289745      0.201811   1.000000"
      ]
     },
     "execution_count": 93,
     "metadata": {},
     "output_type": "execute_result"
    }
   ],
   "source": [
    "# The power of the corr() function lies in its ability to handle multiple dimensions at the same time:\n",
    "corr = adult.corr()\n",
    "corr"
   ]
  },
  {
   "cell_type": "code",
   "execution_count": null,
   "metadata": {},
   "outputs": [],
   "source": [
    "# Now we can make a pretty correlation heatmap with pyplot\n",
    "fig = plt.figure()\n",
    "ax = fig.add_subplot(111)\n",
    "cax = ax.matshow(corr,cmap='coolwarm', vmin=-1, vmax=1)\n",
    "fig.colorbar(cax)\n",
    "ticks = np.arange(0,len(corr.columns),1)\n",
    "ax.set_xticks(ticks)\n",
    "plt.xticks(rotation=90)\n",
    "ax.set_yticks(ticks)\n",
    "ax.set_xticklabels(corr.columns)\n",
    "ax.set_yticklabels(corr.columns)\n",
    "plt.show()"
   ]
  },
  {
   "cell_type": "markdown",
   "metadata": {},
   "source": [
    "In the examples above, we see the most frequently used Pearson Correlation in action. The corr() function allows us to work with other kinds of correlations, as well, including the Spearman correlation. \n",
    "For some great examples, take a look at this website: https://www.datascience.com/learn-data-science/fundamentals/introduction-to-correlation-python-data-science"
   ]
  }
 ],
 "metadata": {
  "kernelspec": {
   "display_name": "Python 3",
   "language": "python",
   "name": "python3"
  },
  "language_info": {
   "codemirror_mode": {
    "name": "ipython",
    "version": 3
   },
   "file_extension": ".py",
   "mimetype": "text/x-python",
   "name": "python",
   "nbconvert_exporter": "python",
   "pygments_lexer": "ipython3",
   "version": "3.7.0"
  }
 },
 "nbformat": 4,
 "nbformat_minor": 2
}
