{
 "cells": [
  {
   "cell_type": "markdown",
   "metadata": {},
   "source": [
    "# Week 5: ANOVA and Linear Regression\n",
    "In our last module, we saw that we can numerically relate two variables--either by evaluating how and when they vary together (covariance) or how variation in one variable leads to variation in another (correlation). It's now time for us to start thinking about our variables from two perspectives:\n",
    "1. We can determine how several categories of a variable relate to one another by comparing their subgroup averages with one another. This is called ANOVA. \n",
    "2. We can determine more than just the mere existence of a relationship--we can determine exactly how two variables relate to one another, in the form of y = f(x) + b where x is the independent variable and y the dependent variable. This format will allow us to derive a model from existing relationships and apply this model to future relationships. This is called linear modeling and regression."
   ]
  },
  {
   "cell_type": "code",
   "execution_count": 1,
   "metadata": {},
   "outputs": [],
   "source": [
    "# We are setting up the environment with all the packages we could possibly need\n",
    "# For pandas documentation, see https://pandas.pydata.org/pandas-docs/stable/api.html#dataframe\n",
    "# For matplotlib documentation, see https://matplotlib.org/api/pyplot_summary.html\n",
    "\n",
    "import numpy as np\n",
    "import pandas as pd \n",
    "import matplotlib.pyplot as plt\n",
    "import statsmodels.api as sm\n",
    "from statsmodels.formula.api import ols\n",
    "import scipy.stats as stats"
   ]
  },
  {
   "cell_type": "code",
   "execution_count": 2,
   "metadata": {},
   "outputs": [
    {
     "data": {
      "text/plain": [
       "(38, 8)"
      ]
     },
     "execution_count": 2,
     "metadata": {},
     "output_type": "execute_result"
    }
   ],
   "source": [
    "# Now let's import our data. We will, this time around, work not with the adult dataset, but with the Fuel Efficiency dataset/\n",
    "# To review the attributes and their values, check out https://archive.ics.uci.edu/ml/datasets/auto+mpg  We are adding on a GPM (= gallons per 100 miles) variable to help us conduct our work more efficiently. This file is stored remotely.\n",
    "\n",
    "FuelEff = pd.read_csv(\"http://www.biz.uiowa.edu/faculty/jledolter/datamining/FuelEfficiency.csv\")\n",
    "FuelEff.shape # Let's get the basic outline of the dataset"
   ]
  },
  {
   "cell_type": "code",
   "execution_count": 49,
   "metadata": {},
   "outputs": [
    {
     "data": {
      "text/html": [
       "<div>\n",
       "<style scoped>\n",
       "    .dataframe tbody tr th:only-of-type {\n",
       "        vertical-align: middle;\n",
       "    }\n",
       "\n",
       "    .dataframe tbody tr th {\n",
       "        vertical-align: top;\n",
       "    }\n",
       "\n",
       "    .dataframe thead th {\n",
       "        text-align: right;\n",
       "    }\n",
       "</style>\n",
       "<table border=\"1\" class=\"dataframe\">\n",
       "  <thead>\n",
       "    <tr style=\"text-align: right;\">\n",
       "      <th></th>\n",
       "      <th>MPG</th>\n",
       "      <th>GPM</th>\n",
       "      <th>WT</th>\n",
       "      <th>DIS</th>\n",
       "      <th>NC</th>\n",
       "      <th>HP</th>\n",
       "      <th>ACC</th>\n",
       "      <th>ET</th>\n",
       "    </tr>\n",
       "  </thead>\n",
       "  <tbody>\n",
       "    <tr>\n",
       "      <th>0</th>\n",
       "      <td>16.9</td>\n",
       "      <td>5.917</td>\n",
       "      <td>4.360</td>\n",
       "      <td>350</td>\n",
       "      <td>8</td>\n",
       "      <td>155</td>\n",
       "      <td>14.9</td>\n",
       "      <td>1</td>\n",
       "    </tr>\n",
       "    <tr>\n",
       "      <th>1</th>\n",
       "      <td>15.5</td>\n",
       "      <td>6.452</td>\n",
       "      <td>4.054</td>\n",
       "      <td>351</td>\n",
       "      <td>8</td>\n",
       "      <td>142</td>\n",
       "      <td>14.3</td>\n",
       "      <td>1</td>\n",
       "    </tr>\n",
       "    <tr>\n",
       "      <th>2</th>\n",
       "      <td>19.2</td>\n",
       "      <td>5.208</td>\n",
       "      <td>3.605</td>\n",
       "      <td>267</td>\n",
       "      <td>8</td>\n",
       "      <td>125</td>\n",
       "      <td>15.0</td>\n",
       "      <td>1</td>\n",
       "    </tr>\n",
       "    <tr>\n",
       "      <th>3</th>\n",
       "      <td>18.5</td>\n",
       "      <td>5.405</td>\n",
       "      <td>3.940</td>\n",
       "      <td>360</td>\n",
       "      <td>8</td>\n",
       "      <td>150</td>\n",
       "      <td>13.0</td>\n",
       "      <td>1</td>\n",
       "    </tr>\n",
       "    <tr>\n",
       "      <th>4</th>\n",
       "      <td>30.0</td>\n",
       "      <td>3.333</td>\n",
       "      <td>2.155</td>\n",
       "      <td>98</td>\n",
       "      <td>4</td>\n",
       "      <td>68</td>\n",
       "      <td>16.5</td>\n",
       "      <td>0</td>\n",
       "    </tr>\n",
       "  </tbody>\n",
       "</table>\n",
       "</div>"
      ],
      "text/plain": [
       "    MPG    GPM     WT  DIS  NC   HP   ACC  ET\n",
       "0  16.9  5.917  4.360  350   8  155  14.9   1\n",
       "1  15.5  6.452  4.054  351   8  142  14.3   1\n",
       "2  19.2  5.208  3.605  267   8  125  15.0   1\n",
       "3  18.5  5.405  3.940  360   8  150  13.0   1\n",
       "4  30.0  3.333  2.155   98   4   68  16.5   0"
      ]
     },
     "execution_count": 49,
     "metadata": {},
     "output_type": "execute_result"
    }
   ],
   "source": [
    "# Alrighty, let's look at the data themselves\n",
    "FuelEff.head()"
   ]
  },
  {
   "cell_type": "code",
   "execution_count": 50,
   "metadata": {},
   "outputs": [
    {
     "data": {
      "text/plain": [
       "MPG    float64\n",
       "GPM    float64\n",
       "WT     float64\n",
       "DIS      int64\n",
       "NC       int64\n",
       "HP       int64\n",
       "ACC    float64\n",
       "ET       int64\n",
       "dtype: object"
      ]
     },
     "execution_count": 50,
     "metadata": {},
     "output_type": "execute_result"
    }
   ],
   "source": [
    "# And let's verify the datatypes before we go off into analysis land:\n",
    "FuelEff.dtypes"
   ]
  },
  {
   "cell_type": "markdown",
   "metadata": {},
   "source": [
    "## A little preprocessing\n",
    "GPM (Gallons per 100 miles) and MPG (miles per gallon) are essentially the same thing. In the interest of intellectual flexibility and European car manufacturers who measure fuel efficiency in litres per kilometer, we will use GPM and remove MPG from the dataset."
   ]
  },
  {
   "cell_type": "code",
   "execution_count": 51,
   "metadata": {
    "scrolled": true
   },
   "outputs": [
    {
     "data": {
      "text/html": [
       "<div>\n",
       "<style scoped>\n",
       "    .dataframe tbody tr th:only-of-type {\n",
       "        vertical-align: middle;\n",
       "    }\n",
       "\n",
       "    .dataframe tbody tr th {\n",
       "        vertical-align: top;\n",
       "    }\n",
       "\n",
       "    .dataframe thead th {\n",
       "        text-align: right;\n",
       "    }\n",
       "</style>\n",
       "<table border=\"1\" class=\"dataframe\">\n",
       "  <thead>\n",
       "    <tr style=\"text-align: right;\">\n",
       "      <th></th>\n",
       "      <th>GPM</th>\n",
       "      <th>WT</th>\n",
       "      <th>DIS</th>\n",
       "      <th>NC</th>\n",
       "      <th>HP</th>\n",
       "      <th>ACC</th>\n",
       "      <th>ET</th>\n",
       "    </tr>\n",
       "  </thead>\n",
       "  <tbody>\n",
       "    <tr>\n",
       "      <th>0</th>\n",
       "      <td>5.917</td>\n",
       "      <td>4.360</td>\n",
       "      <td>350</td>\n",
       "      <td>8</td>\n",
       "      <td>155</td>\n",
       "      <td>14.9</td>\n",
       "      <td>1</td>\n",
       "    </tr>\n",
       "    <tr>\n",
       "      <th>1</th>\n",
       "      <td>6.452</td>\n",
       "      <td>4.054</td>\n",
       "      <td>351</td>\n",
       "      <td>8</td>\n",
       "      <td>142</td>\n",
       "      <td>14.3</td>\n",
       "      <td>1</td>\n",
       "    </tr>\n",
       "    <tr>\n",
       "      <th>2</th>\n",
       "      <td>5.208</td>\n",
       "      <td>3.605</td>\n",
       "      <td>267</td>\n",
       "      <td>8</td>\n",
       "      <td>125</td>\n",
       "      <td>15.0</td>\n",
       "      <td>1</td>\n",
       "    </tr>\n",
       "    <tr>\n",
       "      <th>3</th>\n",
       "      <td>5.405</td>\n",
       "      <td>3.940</td>\n",
       "      <td>360</td>\n",
       "      <td>8</td>\n",
       "      <td>150</td>\n",
       "      <td>13.0</td>\n",
       "      <td>1</td>\n",
       "    </tr>\n",
       "    <tr>\n",
       "      <th>4</th>\n",
       "      <td>3.333</td>\n",
       "      <td>2.155</td>\n",
       "      <td>98</td>\n",
       "      <td>4</td>\n",
       "      <td>68</td>\n",
       "      <td>16.5</td>\n",
       "      <td>0</td>\n",
       "    </tr>\n",
       "  </tbody>\n",
       "</table>\n",
       "</div>"
      ],
      "text/plain": [
       "     GPM     WT  DIS  NC   HP   ACC  ET\n",
       "0  5.917  4.360  350   8  155  14.9   1\n",
       "1  6.452  4.054  351   8  142  14.3   1\n",
       "2  5.208  3.605  267   8  125  15.0   1\n",
       "3  5.405  3.940  360   8  150  13.0   1\n",
       "4  3.333  2.155   98   4   68  16.5   0"
      ]
     },
     "execution_count": 51,
     "metadata": {},
     "output_type": "execute_result"
    }
   ],
   "source": [
    "FuelEff1 = FuelEff.drop(['MPG'], axis=1) # Remember that axis=1 is the column and axis=0 is the row.\n",
    "FuelEff1.head()"
   ]
  },
  {
   "cell_type": "markdown",
   "metadata": {},
   "source": [
    "## Let's get a sense of how some of the independent variables relate to GPM"
   ]
  },
  {
   "cell_type": "code",
   "execution_count": 52,
   "metadata": {},
   "outputs": [
    {
     "data": {
      "image/png": "[encoded data removed]",
      "text/plain": [
       "<Figure size 432x288 with 1 Axes>"
      ]
     },
     "metadata": {
      "needs_background": "light"
     },
     "output_type": "display_data"
    }
   ],
   "source": [
    "plt.scatter(FuelEff1['WT'], FuelEff1['GPM'], alpha=0.5)\n",
    "plt.title('Scatter plot WT vs. GPM')\n",
    "plt.xlabel('WT')\n",
    "plt.ylabel('GPM')\n",
    "plt.show()    # Yay. Looks like a pretty good positive correlation. "
   ]
  },
  {
   "cell_type": "code",
   "execution_count": 63,
   "metadata": {},
   "outputs": [
    {
     "data": {
      "image/png": "[encoded data removed]",
      "text/plain": [
       "<Figure size 432x288 with 1 Axes>"
      ]
     },
     "metadata": {
      "needs_background": "light"
     },
     "output_type": "display_data"
    }
   ],
   "source": [
    "plt.scatter(FuelEff1['DIS'], FuelEff1['GPM'], alpha=0.5)\n",
    "plt.title('Scatter plot DIS vs. GPM')\n",
    "plt.xlabel('DIS')\n",
    "plt.ylabel('GPM')\n",
    "plt.show()    # Well, some sort of a positive correlation."
   ]
  },
  {
   "cell_type": "code",
   "execution_count": 64,
   "metadata": {},
   "outputs": [
    {
     "data": {
      "image/png": "[encoded data removed]",
      "text/plain": [
       "<Figure size 432x288 with 1 Axes>"
      ]
     },
     "metadata": {
      "needs_background": "light"
     },
     "output_type": "display_data"
    }
   ],
   "source": [
    "plt.scatter(FuelEff1['NC'], FuelEff1['GPM'], alpha=0.5)\n",
    "plt.title('Scatter plot NC vs. GPM')\n",
    "plt.xlabel('NC')\n",
    "plt.ylabel('GPM')\n",
    "plt.show()    # Huh. That output is interesting. See how the values for 6.0 cylinders overlap with 4.0 and 8.0?"
   ]
  },
  {
   "cell_type": "markdown",
   "metadata": {},
   "source": [
    "The output from the last scatterplot is strange--if the GPM of a car with 6 cylinders overlaps that much with either 4 cylinders or 8 cylinders, what is the use of having a 6-cylinder car? We need to look more closely into this."
   ]
  },
  {
   "cell_type": "markdown",
   "metadata": {},
   "source": [
    "## 1. ANOVA\n",
    "Analysis of variance (ANOVA) is used to test the variation between two known data groups by analyzing differences among group means. Here, we want to find out whether there is any difference in the means between the 6-cylinder car and its neighbors. \n",
    "\n",
    "The H0 in ANOVA is always that all group means are equal. \n",
    "The Ha in ANOVA is that at least one group mean is different.\n",
    "The default p-value is 0.05"
   ]
  },
  {
   "cell_type": "code",
   "execution_count": 53,
   "metadata": {},
   "outputs": [
    {
     "data": {
      "text/plain": [
       "<matplotlib.axes._subplots.AxesSubplot at 0x22d8977fdd8>"
      ]
     },
     "execution_count": 53,
     "metadata": {},
     "output_type": "execute_result"
    },
    {
     "data": {
      "image/png": "[encoded data removed]",
      "text/plain": [
       "<Figure size 864x576 with 1 Axes>"
      ]
     },
     "metadata": {
      "needs_background": "light"
     },
     "output_type": "display_data"
    }
   ],
   "source": [
    "#Let's first create a boxplot of the NUmber of Cylinders vs the GPM\n",
    "FuelEff1.boxplot('GPM', by='NC', figsize=(12, 8), meanline=True, showmeans=True)"
   ]
  },
  {
   "cell_type": "markdown",
   "metadata": {},
   "source": [
    "As we can see here, it looks like the group means are different because the overlaps are mostly outliers. But can we prove that mathematically? In other words, does it make sense to buy a 4-cylinder car, and we can really expect to use less gas?\n",
    "\n",
    "We will be using data science packages below; if you want to try calculating all the step in pure Python, you'll find a great example at https://www.marsja.se/four-ways-to-conduct-one-way-anovas-using-python/"
   ]
  },
  {
   "cell_type": "code",
   "execution_count": 57,
   "metadata": {
    "scrolled": false
   },
   "outputs": [
    {
     "name": "stdout",
     "output_type": "stream",
     "text": [
      "                            OLS Regression Results                            \n",
      "==============================================================================\n",
      "Dep. Variable:                    GPM   R-squared:                       0.708\n",
      "Model:                            OLS   Adj. R-squared:                  0.699\n",
      "Method:                 Least Squares   F-statistic:                     87.12\n",
      "Date:                Wed, 06 Feb 2019   Prob (F-statistic):           3.79e-11\n",
      "Time:                        13:16:22   Log-Likelihood:                -35.559\n",
      "No. Observations:                  38   AIC:                             75.12\n",
      "Df Residuals:                      36   BIC:                             78.39\n",
      "Df Model:                           1                                         \n",
      "Covariance Type:            nonrobust                                         \n",
      "==============================================================================\n",
      "                 coef    std err          t      P>|t|      [0.025      0.975]\n",
      "------------------------------------------------------------------------------\n",
      "Intercept      1.0581      0.365      2.896      0.006       0.317       1.799\n",
      "NC             0.6066      0.065      9.334      0.000       0.475       0.738\n",
      "==============================================================================\n",
      "Omnibus:                        2.414   Durbin-Watson:                   1.062\n",
      "Prob(Omnibus):                  0.299   Jarque-Bera (JB):                1.956\n",
      "Skew:                           0.553   Prob(JB):                        0.376\n",
      "Kurtosis:                       2.889   Cond. No.                         20.6\n",
      "==============================================================================\n",
      "\n",
      "Warnings:\n",
      "[1] Standard Errors assume that the covariance matrix of the errors is correctly specified.\n"
     ]
    }
   ],
   "source": [
    "# 1. Using statsmodels, which is closer to the syntax we already know from R\n",
    "# We start by using the OLS stands for Ordinary Least Squares and the method “Least Squares” means \n",
    "# that we’re trying to fit a linear model line that would minimize the square of distance from the regression line.\n",
    "# The object obtained is a fitted model, which we first look at and that we later use with the anova_lm method to build an ANOVA table.\n",
    " \n",
    "FuelEff1.anova1 = ols('GPM ~ NC', data=FuelEff1).fit()\n",
    "print(FuelEff1.anova1.summary())"
   ]
  },
  {
   "cell_type": "markdown",
   "metadata": {},
   "source": [
    "Let’s interpret the table. Overall the model is representative with R-squared= 70%, significiant with F = 87.12, p = 3.79e-11. The anova table below will tell us a bit more."
   ]
  },
  {
   "cell_type": "code",
   "execution_count": 58,
   "metadata": {},
   "outputs": [
    {
     "data": {
      "text/html": [
       "<div>\n",
       "<style scoped>\n",
       "    .dataframe tbody tr th:only-of-type {\n",
       "        vertical-align: middle;\n",
       "    }\n",
       "\n",
       "    .dataframe tbody tr th {\n",
       "        vertical-align: top;\n",
       "    }\n",
       "\n",
       "    .dataframe thead th {\n",
       "        text-align: right;\n",
       "    }\n",
       "</style>\n",
       "<table border=\"1\" class=\"dataframe\">\n",
       "  <thead>\n",
       "    <tr style=\"text-align: right;\">\n",
       "      <th></th>\n",
       "      <th>sum_sq</th>\n",
       "      <th>df</th>\n",
       "      <th>F</th>\n",
       "      <th>PR(&gt;F)</th>\n",
       "    </tr>\n",
       "  </thead>\n",
       "  <tbody>\n",
       "    <tr>\n",
       "      <th>NC</th>\n",
       "      <td>34.986839</td>\n",
       "      <td>1.0</td>\n",
       "      <td>87.117891</td>\n",
       "      <td>3.792596e-11</td>\n",
       "    </tr>\n",
       "    <tr>\n",
       "      <th>Residual</th>\n",
       "      <td>14.457722</td>\n",
       "      <td>36.0</td>\n",
       "      <td>NaN</td>\n",
       "      <td>NaN</td>\n",
       "    </tr>\n",
       "  </tbody>\n",
       "</table>\n",
       "</div>"
      ],
      "text/plain": [
       "             sum_sq    df          F        PR(>F)\n",
       "NC        34.986839   1.0  87.117891  3.792596e-11\n",
       "Residual  14.457722  36.0        NaN           NaN"
      ]
     },
     "execution_count": 58,
     "metadata": {},
     "output_type": "execute_result"
    }
   ],
   "source": [
    "aov_table = sm.stats.anova_lm(FuelEff1.anova1, typ=2)\n",
    "aov_table"
   ]
  },
  {
   "cell_type": "markdown",
   "metadata": {},
   "source": [
    "Pr > F  is the p-value associated with the F statistic of a given effect and test statistic. The null hypothesis that a given predictor has no effect on either of the outcomes is evaluated with regard to this p-value. For a given alpha level, if the p-value is less than alpha, the null hypothesis is rejected."
   ]
  },
  {
   "cell_type": "markdown",
   "metadata": {},
   "source": [
    "PROBLEM: We have done the analysis by the entire NC attribute, but not by number of cylinders. How would you do that? Try and re-run the analysis!"
   ]
  },
  {
   "cell_type": "markdown",
   "metadata": {},
   "source": [
    "## 2. Regression\n",
    "We are building a linear regression model for the relationship between NC and GPM with the OLS Assumptions. OLS stands for Ordinary Least Squares and the method “Least Squares” means that we’re trying to fit a regression line that would minimize the square of distance from the regression line. "
   ]
  },
  {
   "cell_type": "code",
   "execution_count": 65,
   "metadata": {
    "scrolled": true
   },
   "outputs": [
    {
     "data": {
      "text/html": [
       "<table class=\"simpletable\">\n",
       "<caption>OLS Regression Results</caption>\n",
       "<tr>\n",
       "  <th>Dep. Variable:</th>           <td>GPM</td>       <th>  R-squared:         </th> <td>   0.977</td>\n",
       "</tr>\n",
       "<tr>\n",
       "  <th>Model:</th>                   <td>OLS</td>       <th>  Adj. R-squared:    </th> <td>   0.976</td>\n",
       "</tr>\n",
       "<tr>\n",
       "  <th>Method:</th>             <td>Least Squares</td>  <th>  F-statistic:       </th> <td>   1545.</td>\n",
       "</tr>\n",
       "<tr>\n",
       "  <th>Date:</th>             <td>Wed, 06 Feb 2019</td> <th>  Prob (F-statistic):</th> <td>8.85e-32</td>\n",
       "</tr>\n",
       "<tr>\n",
       "  <th>Time:</th>                 <td>06:21:33</td>     <th>  Log-Likelihood:    </th> <td> -39.538</td>\n",
       "</tr>\n",
       "<tr>\n",
       "  <th>No. Observations:</th>      <td>    38</td>      <th>  AIC:               </th> <td>   81.08</td>\n",
       "</tr>\n",
       "<tr>\n",
       "  <th>Df Residuals:</th>          <td>    37</td>      <th>  BIC:               </th> <td>   82.71</td>\n",
       "</tr>\n",
       "<tr>\n",
       "  <th>Df Model:</th>              <td>     1</td>      <th>                     </th>     <td> </td>   \n",
       "</tr>\n",
       "<tr>\n",
       "  <th>Covariance Type:</th>      <td>nonrobust</td>    <th>                     </th>     <td> </td>   \n",
       "</tr>\n",
       "</table>\n",
       "<table class=\"simpletable\">\n",
       "<tr>\n",
       "   <td></td>     <th>coef</th>     <th>std err</th>      <th>t</th>      <th>P>|t|</th>  <th>[0.025</th>    <th>0.975]</th>  \n",
       "</tr>\n",
       "<tr>\n",
       "  <th>NC</th> <td>    0.7872</td> <td>    0.020</td> <td>   39.305</td> <td> 0.000</td> <td>    0.747</td> <td>    0.828</td>\n",
       "</tr>\n",
       "</table>\n",
       "<table class=\"simpletable\">\n",
       "<tr>\n",
       "  <th>Omnibus:</th>       <td> 0.618</td> <th>  Durbin-Watson:     </th> <td>   1.187</td>\n",
       "</tr>\n",
       "<tr>\n",
       "  <th>Prob(Omnibus):</th> <td> 0.734</td> <th>  Jarque-Bera (JB):  </th> <td>   0.575</td>\n",
       "</tr>\n",
       "<tr>\n",
       "  <th>Skew:</th>          <td> 0.275</td> <th>  Prob(JB):          </th> <td>   0.750</td>\n",
       "</tr>\n",
       "<tr>\n",
       "  <th>Kurtosis:</th>      <td> 2.755</td> <th>  Cond. No.          </th> <td>    1.00</td>\n",
       "</tr>\n",
       "</table><br/><br/>Warnings:<br/>[1] Standard Errors assume that the covariance matrix of the errors is correctly specified."
      ],
      "text/plain": [
       "<class 'statsmodels.iolib.summary.Summary'>\n",
       "\"\"\"\n",
       "                            OLS Regression Results                            \n",
       "==============================================================================\n",
       "Dep. Variable:                    GPM   R-squared:                       0.977\n",
       "Model:                            OLS   Adj. R-squared:                  0.976\n",
       "Method:                 Least Squares   F-statistic:                     1545.\n",
       "Date:                Wed, 06 Feb 2019   Prob (F-statistic):           8.85e-32\n",
       "Time:                        06:21:33   Log-Likelihood:                -39.538\n",
       "No. Observations:                  38   AIC:                             81.08\n",
       "Df Residuals:                      37   BIC:                             82.71\n",
       "Df Model:                           1                                         \n",
       "Covariance Type:            nonrobust                                         \n",
       "==============================================================================\n",
       "                 coef    std err          t      P>|t|      [0.025      0.975]\n",
       "------------------------------------------------------------------------------\n",
       "NC             0.7872      0.020     39.305      0.000       0.747       0.828\n",
       "==============================================================================\n",
       "Omnibus:                        0.618   Durbin-Watson:                   1.187\n",
       "Prob(Omnibus):                  0.734   Jarque-Bera (JB):                0.575\n",
       "Skew:                           0.275   Prob(JB):                        0.750\n",
       "Kurtosis:                       2.755   Cond. No.                         1.00\n",
       "==============================================================================\n",
       "\n",
       "Warnings:\n",
       "[1] Standard Errors assume that the covariance matrix of the errors is correctly specified.\n",
       "\"\"\""
      ]
     },
     "execution_count": 65,
     "metadata": {},
     "output_type": "execute_result"
    }
   ],
   "source": [
    "X = FuelEff1['NC']\n",
    "y = FuelEff1['GPM']\n",
    "FuelEff1.mod1 = sm.OLS(y, X).fit()\n",
    "FuelEff1.mod1_summary = FuelEff1.mod1.summary()\n",
    "FuelEff1.mod1_summary"
   ]
  },
  {
   "cell_type": "markdown",
   "metadata": {},
   "source": [
    "The coefficient of 0.7872 means that as the NC variable increases by 1, the predicted value of GPM increases by 0.7872. A few other important values are the R-squared — the percentage of variance our model explains; the standard error (is the standard deviation of the sampling distribution of a statistic, most commonly of the mean); the t scores and p-values, for hypothesis test — the RM has statistically significant p-value; there is a 95% confidence intervals for the RM (meaning we predict at a 95% percent confidence that the value of RM is between 0.025 to 0.975).\n",
    "\n",
    "Now let's take a look at the predicted values for x and then plot them:"
   ]
  },
  {
   "cell_type": "code",
   "execution_count": 85,
   "metadata": {
    "scrolled": true
   },
   "outputs": [
    {
     "name": "stdout",
     "output_type": "stream",
     "text": [
      "[0     6.297752\n",
      "1     6.297752\n",
      "2     6.297752\n",
      "3     6.297752\n",
      "4     3.148876\n",
      "5     3.148876\n",
      "6     3.148876\n",
      "7     3.148876\n",
      "8     3.936095\n",
      "9     4.723314\n",
      "10    3.148876\n",
      "11    4.723314\n",
      "12    4.723314\n",
      "13    4.723314\n",
      "14    4.723314\n",
      "15    4.723314\n",
      "16    6.297752\n",
      "17    6.297752\n",
      "18    6.297752\n",
      "19    6.297752\n",
      "20    3.148876\n",
      "21    4.723314\n",
      "22    3.148876\n",
      "23    3.148876\n",
      "24    3.148876\n",
      "25    3.148876\n",
      "26    3.148876\n",
      "27    3.148876\n",
      "28    4.723314\n",
      "29    4.723314\n",
      "30    3.148876\n",
      "31    3.148876\n",
      "32    3.148876\n",
      "33    3.148876\n",
      "34    3.148876\n",
      "35    4.723314\n",
      "36    3.148876\n",
      "37    3.148876\n",
      "dtype: float64] [0     6.297752\n",
      "1     6.297752\n",
      "2     6.297752\n",
      "3     6.297752\n",
      "4     3.148876\n",
      "5     3.148876\n",
      "6     3.148876\n",
      "7     3.148876\n",
      "8     3.936095\n",
      "9     4.723314\n",
      "10    3.148876\n",
      "11    4.723314\n",
      "12    4.723314\n",
      "13    4.723314\n",
      "14    4.723314\n",
      "15    4.723314\n",
      "16    6.297752\n",
      "17    6.297752\n",
      "18    6.297752\n",
      "19    6.297752\n",
      "20    3.148876\n",
      "21    4.723314\n",
      "22    3.148876\n",
      "23    3.148876\n",
      "24    3.148876\n",
      "25    3.148876\n",
      "26    3.148876\n",
      "27    3.148876\n",
      "28    4.723314\n",
      "29    4.723314\n",
      "30    3.148876\n",
      "31    3.148876\n",
      "32    3.148876\n",
      "33    3.148876\n",
      "34    3.148876\n",
      "35    4.723314\n",
      "36    3.148876\n",
      "37    3.148876\n",
      "dtype: float64]\n"
     ]
    }
   ],
   "source": [
    "# You can do this with predict() and with fittedvalues. Look up these commands and explain why they produce the same output.\n",
    "predictions = FuelEff1.mod1.predict(X)\n",
    "fittedvalues = FuelEff1.mod1.fittedvalues\n",
    "print([predictions],[fittedvalues])"
   ]
  },
  {
   "cell_type": "code",
   "execution_count": 81,
   "metadata": {},
   "outputs": [
    {
     "name": "stdout",
     "output_type": "stream",
     "text": [
      "0     6.297752\n",
      "1     6.297752\n",
      "2     6.297752\n",
      "3     6.297752\n",
      "4     3.148876\n",
      "5     3.148876\n",
      "6     3.148876\n",
      "7     3.148876\n",
      "8     3.936095\n",
      "9     4.723314\n",
      "10    3.148876\n",
      "11    4.723314\n",
      "12    4.723314\n",
      "13    4.723314\n",
      "14    4.723314\n",
      "15    4.723314\n",
      "16    6.297752\n",
      "17    6.297752\n",
      "18    6.297752\n",
      "19    6.297752\n",
      "20    3.148876\n",
      "21    4.723314\n",
      "22    3.148876\n",
      "23    3.148876\n",
      "24    3.148876\n",
      "25    3.148876\n",
      "26    3.148876\n",
      "27    3.148876\n",
      "28    4.723314\n",
      "29    4.723314\n",
      "30    3.148876\n",
      "31    3.148876\n",
      "32    3.148876\n",
      "33    3.148876\n",
      "34    3.148876\n",
      "35    4.723314\n",
      "36    3.148876\n",
      "37    3.148876\n",
      "dtype: float64\n"
     ]
    }
   ],
   "source": [
    "fittedvalues = print(FuelEff1.mod1.fittedvalues)\n",
    "fittedvalues"
   ]
  },
  {
   "cell_type": "code",
   "execution_count": 72,
   "metadata": {
    "scrolled": true
   },
   "outputs": [
    {
     "data": {
      "image/png": "[encoded data removed]",
      "text/plain": [
       "<Figure size 432x288 with 1 Axes>"
      ]
     },
     "metadata": {
      "needs_background": "light"
     },
     "output_type": "display_data"
    }
   ],
   "source": [
    "# Building the basic dot-and-line regression plot\n",
    "results = FuelEff1.mod1\n",
    "fig, ax = plt.subplots()\n",
    "fig = sm.graphics.plot_fit(results, 0, ax=ax)\n",
    "ax.set_ylabel(\"GPM\")\n",
    "ax.set_xlabel(\"NC\")\n",
    "ax.set_title(\"Linear Regression\")\n",
    "plt.show()"
   ]
  },
  {
   "cell_type": "code",
   "execution_count": 94,
   "metadata": {
    "scrolled": true
   },
   "outputs": [
    {
     "ename": "AttributeError",
     "evalue": "'Series' object has no attribute 'design_info'",
     "output_type": "error",
     "traceback": [
      "\u001b[1;31m---------------------------------------------------------------------------\u001b[0m",
      "\u001b[1;31mAttributeError\u001b[0m                            Traceback (most recent call last)",
      "\u001b[1;32m<ipython-input-94-8d72cc6cd69d>\u001b[0m in \u001b[0;36m<module>\u001b[1;34m\u001b[0m\n\u001b[0;32m      3\u001b[0m \u001b[1;33m\u001b[0m\u001b[0m\n\u001b[0;32m      4\u001b[0m \u001b[1;31m# Pass in the model as the first parameter, then specify the predictor variable we want to analyze\u001b[0m\u001b[1;33m\u001b[0m\u001b[1;33m\u001b[0m\u001b[1;33m\u001b[0m\u001b[0m\n\u001b[1;32m----> 5\u001b[1;33m \u001b[0mfig\u001b[0m \u001b[1;33m=\u001b[0m \u001b[0msm\u001b[0m\u001b[1;33m.\u001b[0m\u001b[0mgraphics\u001b[0m\u001b[1;33m.\u001b[0m\u001b[0mplot_regress_exog\u001b[0m\u001b[1;33m(\u001b[0m\u001b[0mFuelEff1\u001b[0m\u001b[1;33m.\u001b[0m\u001b[0mmod1\u001b[0m\u001b[1;33m,\u001b[0m \u001b[1;34m\"NC\"\u001b[0m\u001b[1;33m,\u001b[0m \u001b[0mfig\u001b[0m\u001b[1;33m=\u001b[0m\u001b[0mfig\u001b[0m\u001b[1;33m)\u001b[0m \u001b[1;31m# This looks like an iPython bug\u001b[0m\u001b[1;33m\u001b[0m\u001b[1;33m\u001b[0m\u001b[0m\n\u001b[0m\u001b[0;32m      6\u001b[0m \u001b[1;31m# fig = sm.graphics.plot_regress_exog(FuelEff1.mod1, \"NC\")\u001b[0m\u001b[1;33m\u001b[0m\u001b[1;33m\u001b[0m\u001b[1;33m\u001b[0m\u001b[0m\n",
      "\u001b[1;32mC:\\ProgramData\\Anaconda3\\lib\\site-packages\\statsmodels\\graphics\\regressionplots.py\u001b[0m in \u001b[0;36mplot_regress_exog\u001b[1;34m(results, exog_idx, fig)\u001b[0m\n\u001b[0;32m    218\u001b[0m                            Series(x1, name=exog_name,\n\u001b[0;32m    219\u001b[0m                                   index=results.model.data.row_labels),\n\u001b[1;32m--> 220\u001b[1;33m                            exog_others, obs_labels=False, ax=ax)\n\u001b[0m\u001b[0;32m    221\u001b[0m     \u001b[0max\u001b[0m\u001b[1;33m.\u001b[0m\u001b[0mset_title\u001b[0m\u001b[1;33m(\u001b[0m\u001b[1;34m'Partial regression plot'\u001b[0m\u001b[1;33m,\u001b[0m \u001b[0mfontsize\u001b[0m\u001b[1;33m=\u001b[0m\u001b[1;34m'large'\u001b[0m\u001b[1;33m)\u001b[0m\u001b[1;33m\u001b[0m\u001b[1;33m\u001b[0m\u001b[0m\n\u001b[0;32m    222\u001b[0m     \u001b[1;31m#ax.set_ylabel(\"Fitted values\")\u001b[0m\u001b[1;33m\u001b[0m\u001b[1;33m\u001b[0m\u001b[1;33m\u001b[0m\u001b[0m\n",
      "\u001b[1;32mC:\\ProgramData\\Anaconda3\\lib\\site-packages\\statsmodels\\graphics\\regressionplots.py\u001b[0m in \u001b[0;36mplot_partregress\u001b[1;34m(endog, exog_i, exog_others, data, title_kwargs, obs_labels, label_kwargs, ax, ret_coords, **kwargs)\u001b[0m\n\u001b[0;32m    355\u001b[0m         \u001b[0mfitted_line\u001b[0m \u001b[1;33m=\u001b[0m \u001b[0mOLS\u001b[0m\u001b[1;33m(\u001b[0m\u001b[0mendog\u001b[0m\u001b[1;33m,\u001b[0m \u001b[0mexog_i\u001b[0m\u001b[1;33m)\u001b[0m\u001b[1;33m.\u001b[0m\u001b[0mfit\u001b[0m\u001b[1;33m(\u001b[0m\u001b[1;33m)\u001b[0m\u001b[1;33m\u001b[0m\u001b[1;33m\u001b[0m\u001b[0m\n\u001b[0;32m    356\u001b[0m         \u001b[0mx_axis_endog_name\u001b[0m \u001b[1;33m=\u001b[0m \u001b[1;34m'x'\u001b[0m \u001b[1;32mif\u001b[0m \u001b[0misinstance\u001b[0m\u001b[1;33m(\u001b[0m\u001b[0mexog_i\u001b[0m\u001b[1;33m,\u001b[0m \u001b[0mnp\u001b[0m\u001b[1;33m.\u001b[0m\u001b[0mndarray\u001b[0m\u001b[1;33m)\u001b[0m \u001b[1;32melse\u001b[0m \u001b[0mexog_i\u001b[0m\u001b[1;33m.\u001b[0m\u001b[0mname\u001b[0m\u001b[1;33m\u001b[0m\u001b[1;33m\u001b[0m\u001b[0m\n\u001b[1;32m--> 357\u001b[1;33m         \u001b[0my_axis_endog_name\u001b[0m \u001b[1;33m=\u001b[0m \u001b[1;34m'y'\u001b[0m \u001b[1;32mif\u001b[0m \u001b[0misinstance\u001b[0m\u001b[1;33m(\u001b[0m\u001b[0mendog\u001b[0m\u001b[1;33m,\u001b[0m \u001b[0mnp\u001b[0m\u001b[1;33m.\u001b[0m\u001b[0mndarray\u001b[0m\u001b[1;33m)\u001b[0m \u001b[1;32melse\u001b[0m \u001b[0mendog\u001b[0m\u001b[1;33m.\u001b[0m\u001b[0mdesign_info\u001b[0m\u001b[1;33m.\u001b[0m\u001b[0mcolumn_names\u001b[0m\u001b[1;33m[\u001b[0m\u001b[1;36m0\u001b[0m\u001b[1;33m]\u001b[0m\u001b[1;33m\u001b[0m\u001b[1;33m\u001b[0m\u001b[0m\n\u001b[0m\u001b[0;32m    358\u001b[0m     \u001b[1;32melse\u001b[0m\u001b[1;33m:\u001b[0m\u001b[1;33m\u001b[0m\u001b[1;33m\u001b[0m\u001b[0m\n\u001b[0;32m    359\u001b[0m         \u001b[0mres_yaxis\u001b[0m \u001b[1;33m=\u001b[0m \u001b[0mOLS\u001b[0m\u001b[1;33m(\u001b[0m\u001b[0mendog\u001b[0m\u001b[1;33m,\u001b[0m \u001b[0mRHS\u001b[0m\u001b[1;33m)\u001b[0m\u001b[1;33m.\u001b[0m\u001b[0mfit\u001b[0m\u001b[1;33m(\u001b[0m\u001b[1;33m)\u001b[0m\u001b[1;33m\u001b[0m\u001b[1;33m\u001b[0m\u001b[0m\n",
      "\u001b[1;32mC:\\ProgramData\\Anaconda3\\lib\\site-packages\\pandas\\core\\generic.py\u001b[0m in \u001b[0;36m__getattr__\u001b[1;34m(self, name)\u001b[0m\n\u001b[0;32m   4374\u001b[0m             \u001b[1;32mif\u001b[0m \u001b[0mself\u001b[0m\u001b[1;33m.\u001b[0m\u001b[0m_info_axis\u001b[0m\u001b[1;33m.\u001b[0m\u001b[0m_can_hold_identifiers_and_holds_name\u001b[0m\u001b[1;33m(\u001b[0m\u001b[0mname\u001b[0m\u001b[1;33m)\u001b[0m\u001b[1;33m:\u001b[0m\u001b[1;33m\u001b[0m\u001b[1;33m\u001b[0m\u001b[0m\n\u001b[0;32m   4375\u001b[0m                 \u001b[1;32mreturn\u001b[0m \u001b[0mself\u001b[0m\u001b[1;33m[\u001b[0m\u001b[0mname\u001b[0m\u001b[1;33m]\u001b[0m\u001b[1;33m\u001b[0m\u001b[1;33m\u001b[0m\u001b[0m\n\u001b[1;32m-> 4376\u001b[1;33m             \u001b[1;32mreturn\u001b[0m \u001b[0mobject\u001b[0m\u001b[1;33m.\u001b[0m\u001b[0m__getattribute__\u001b[0m\u001b[1;33m(\u001b[0m\u001b[0mself\u001b[0m\u001b[1;33m,\u001b[0m \u001b[0mname\u001b[0m\u001b[1;33m)\u001b[0m\u001b[1;33m\u001b[0m\u001b[1;33m\u001b[0m\u001b[0m\n\u001b[0m\u001b[0;32m   4377\u001b[0m \u001b[1;33m\u001b[0m\u001b[0m\n\u001b[0;32m   4378\u001b[0m     \u001b[1;32mdef\u001b[0m \u001b[0m__setattr__\u001b[0m\u001b[1;33m(\u001b[0m\u001b[0mself\u001b[0m\u001b[1;33m,\u001b[0m \u001b[0mname\u001b[0m\u001b[1;33m,\u001b[0m \u001b[0mvalue\u001b[0m\u001b[1;33m)\u001b[0m\u001b[1;33m:\u001b[0m\u001b[1;33m\u001b[0m\u001b[1;33m\u001b[0m\u001b[0m\n",
      "\u001b[1;31mAttributeError\u001b[0m: 'Series' object has no attribute 'design_info'"
     ]
    },
    {
     "data": {
      "image/png": "[encoded data removed]",
      "text/plain": [
       "<Figure size 1080x576 with 3 Axes>"
      ]
     },
     "metadata": {
      "needs_background": "light"
     },
     "output_type": "display_data"
    }
   ],
   "source": [
    "# Now let's build all four regression plots\n",
    "fig = plt.figure(figsize=(15,8))\n",
    "\n",
    "# Pass in the model as the first parameter, then specify the predictor variable we want to analyze\n",
    "fig = sm.graphics.plot_regress_exog(FuelEff1.mod1, \"NC\", fig=fig) # This looks like an iPython bug\n",
    "# fig = sm.graphics.plot_regress_exog(FuelEff1.mod1, \"NC\") "
   ]
  },
  {
   "cell_type": "markdown",
   "metadata": {},
   "source": [
    "The above was done with the statsmodels package; here is how to do it with sklearn's linear_model function"
   ]
  },
  {
   "cell_type": "code",
   "execution_count": null,
   "metadata": {},
   "outputs": [],
   "source": [
    "https://towardsdatascience.com/simple-and-multiple-linear-regression-in-python-c928425168f9"
   ]
  }
 ],
 "metadata": {
  "kernelspec": {
   "display_name": "Python 3",
   "language": "python",
   "name": "python3"
  },
  "language_info": {
   "codemirror_mode": {
    "name": "ipython",
    "version": 3
   },
   "file_extension": ".py",
   "mimetype": "text/x-python",
   "name": "python",
   "nbconvert_exporter": "python",
   "pygments_lexer": "ipython3",
   "version": "3.7.0"
  }
 },
 "nbformat": 4,
 "nbformat_minor": 2
}
